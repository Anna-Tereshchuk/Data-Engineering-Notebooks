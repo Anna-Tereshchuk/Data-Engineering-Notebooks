{
  "nbformat": 4,
  "nbformat_minor": 0,
  "metadata": {
    "colab": {
      "provenance": [],
      "authorship_tag": "ABX9TyMna4wi/jkYOa+dliV+8tOs",
      "include_colab_link": true
    },
    "kernelspec": {
      "name": "python3",
      "display_name": "Python 3"
    },
    "language_info": {
      "name": "python"
    }
  },
  "cells": [
    {
      "cell_type": "markdown",
      "metadata": {
        "id": "view-in-github",
        "colab_type": "text"
      },
      "source": [
        "<a href=\"https://colab.research.google.com/github/Anna-Tereshchuk/Data-Engineering-Notebooks/blob/main/NumPy_Linear_algebra_and_statistics.ipynb\" target=\"_parent\"><img src=\"https://colab.research.google.com/assets/colab-badge.svg\" alt=\"Open In Colab\"/></a>"
      ]
    },
    {
      "cell_type": "markdown",
      "source": [
        "**NumPy** (скорочено від Numerical Python) є основою числових обчислень у Python. Це потужний інструмент для роботи з масивами даних, який дозволяє виконувати швидкі математичні операції. NumPy інтегрується з Pandas, що робить аналіз даних ще швидшим та ефективнішим.\n",
        "\n",
        "\n",
        "\n",
        "\n"
      ],
      "metadata": {
        "id": "r7x1Q42P6hHy"
      }
    },
    {
      "cell_type": "code",
      "source": [
        "import numpy as np\n"
      ],
      "metadata": {
        "id": "ZVvcfzcfzp2M"
      },
      "execution_count": 18,
      "outputs": []
    },
    {
      "cell_type": "markdown",
      "source": [
        "\n",
        "> Створення двовимірних масивів (матриць):\n",
        "\n"
      ],
      "metadata": {
        "id": "QaeKt1zyecB6"
      }
    },
    {
      "cell_type": "code",
      "source": [
        "array1 = np.array([[1, 2], [3, 4]])\n",
        "array2 = np.array([[5, 6], [7, 8]])\n",
        "print(array1)\n",
        "print(array2)"
      ],
      "metadata": {
        "colab": {
          "base_uri": "https://localhost:8080/"
        },
        "id": "ppMJ5KGiehBu",
        "outputId": "9dd75802-8b05-495a-f4dd-6b65e5fffbc6"
      },
      "execution_count": 19,
      "outputs": [
        {
          "output_type": "stream",
          "name": "stdout",
          "text": [
            "[[1 2]\n",
            " [3 4]]\n",
            "[[5 6]\n",
            " [7 8]]\n"
          ]
        }
      ]
    },
    {
      "cell_type": "markdown",
      "source": [
        "**Множення матриць**\n",
        "\n",
        "\n",
        "> Використання функції `np.dot` для множення матриць:\n",
        "\n"
      ],
      "metadata": {
        "id": "N_lbQX3wfUQg"
      }
    },
    {
      "cell_type": "code",
      "source": [
        "mul = np.dot(array1, array2)\n",
        "print(mul)\n"
      ],
      "metadata": {
        "colab": {
          "base_uri": "https://localhost:8080/"
        },
        "id": "N9iHc58yfece",
        "outputId": "3d40001a-4e66-43f3-925f-d4542e7f8d63"
      },
      "execution_count": 20,
      "outputs": [
        {
          "output_type": "stream",
          "name": "stdout",
          "text": [
            "[[19 22]\n",
            " [43 50]]\n"
          ]
        }
      ]
    },
    {
      "cell_type": "markdown",
      "source": [
        "**Інверсія матриці**\n",
        "\n",
        "\n",
        "\n",
        "> Використання функції `np.linalg.inv` для знаходження оберненої матриці:\n",
        "\n"
      ],
      "metadata": {
        "id": "s6iABMb7flqO"
      }
    },
    {
      "cell_type": "code",
      "source": [
        "inv = np.linalg.inv(array1)\n",
        "print(inv)\n"
      ],
      "metadata": {
        "colab": {
          "base_uri": "https://localhost:8080/"
        },
        "id": "vO1l63VNfwxD",
        "outputId": "c1d43d02-36f3-4701-ea84-d20cc258000d"
      },
      "execution_count": 21,
      "outputs": [
        {
          "output_type": "stream",
          "name": "stdout",
          "text": [
            "[[-2.   1. ]\n",
            " [ 1.5 -0.5]]\n"
          ]
        }
      ]
    },
    {
      "cell_type": "markdown",
      "source": [
        "**Знаходження власних значень та власних векторів:**\n",
        "\n",
        "\n",
        "\n",
        "> Використання функції `np.linalg.eig` для знаходження власних значень та власних векторів:\n",
        "\n"
      ],
      "metadata": {
        "id": "FVMbguSSf3_W"
      }
    },
    {
      "cell_type": "code",
      "source": [
        "eigenvalues, eigenvectors = np.linalg.eig(array1)\n",
        "print(eigenvalues)\n",
        "print(eigenvectors)\n"
      ],
      "metadata": {
        "colab": {
          "base_uri": "https://localhost:8080/"
        },
        "id": "xqe4cIf9gJs-",
        "outputId": "a8138757-4d95-472d-aceb-bab467f1ca30"
      },
      "execution_count": 22,
      "outputs": [
        {
          "output_type": "stream",
          "name": "stdout",
          "text": [
            "[-0.37228132  5.37228132]\n",
            "[[-0.82456484 -0.41597356]\n",
            " [ 0.56576746 -0.90937671]]\n"
          ]
        }
      ]
    },
    {
      "cell_type": "markdown",
      "source": [
        "**Статистика**\n",
        "\n",
        "\n",
        "> Створення одновимірного масиву\n",
        "\n"
      ],
      "metadata": {
        "id": "TDxY0rqwgTUe"
      }
    },
    {
      "cell_type": "code",
      "source": [
        "data = np.array([1, 2, 3, 4, 5])\n",
        "print(data)"
      ],
      "metadata": {
        "colab": {
          "base_uri": "https://localhost:8080/"
        },
        "id": "r3vcs4uCge0k",
        "outputId": "972b8c59-7cf7-4b12-a9c2-cd761646c759"
      },
      "execution_count": 23,
      "outputs": [
        {
          "output_type": "stream",
          "name": "stdout",
          "text": [
            "[1 2 3 4 5]\n"
          ]
        }
      ]
    },
    {
      "cell_type": "markdown",
      "source": [
        "**Обчислення середнього значення:**\n",
        "\n",
        "\n",
        "> Використання функції `np.mean` для обчислення середнього значення:\n",
        "\n"
      ],
      "metadata": {
        "id": "Kpj3_I_uglpf"
      }
    },
    {
      "cell_type": "code",
      "source": [
        "mean = np.mean(data)\n",
        "print(mean)\n"
      ],
      "metadata": {
        "colab": {
          "base_uri": "https://localhost:8080/"
        },
        "id": "tcgDmVVHnqKY",
        "outputId": "7beadb8b-5d6b-4b53-c38d-534958001c94"
      },
      "execution_count": 24,
      "outputs": [
        {
          "output_type": "stream",
          "name": "stdout",
          "text": [
            "3.0\n"
          ]
        }
      ]
    },
    {
      "cell_type": "markdown",
      "source": [
        "**Обчислення стандартного відхилення:**\n",
        "\n",
        "\n",
        "> Використання функції` np.std` для обчислення стандартного відхилення:\n",
        "\n"
      ],
      "metadata": {
        "id": "ImOtuxtDn650"
      }
    },
    {
      "cell_type": "code",
      "source": [
        "std = np.std(data)\n",
        "print(std)\n"
      ],
      "metadata": {
        "colab": {
          "base_uri": "https://localhost:8080/"
        },
        "id": "BeQ03saBoQqs",
        "outputId": "01501923-727b-4c14-ff32-108b9c420bbf"
      },
      "execution_count": 25,
      "outputs": [
        {
          "output_type": "stream",
          "name": "stdout",
          "text": [
            "1.4142135623730951\n"
          ]
        }
      ]
    },
    {
      "cell_type": "markdown",
      "source": [
        "**Обчислення коефіцієнта кореляції:**\n",
        "\n",
        "\n",
        "> Створення другого масиву:\n",
        "\n",
        "\n"
      ],
      "metadata": {
        "id": "C_8xNpwLoZtE"
      }
    },
    {
      "cell_type": "code",
      "source": [
        "data2 = np.array([11, 12, 13, 14, 15])\n",
        "print(data2)"
      ],
      "metadata": {
        "colab": {
          "base_uri": "https://localhost:8080/"
        },
        "id": "gbQ8m801ogps",
        "outputId": "ea73f756-9d2e-4f85-a44a-0cc4738c416c"
      },
      "execution_count": 26,
      "outputs": [
        {
          "output_type": "stream",
          "name": "stdout",
          "text": [
            "[11 12 13 14 15]\n"
          ]
        }
      ]
    },
    {
      "cell_type": "markdown",
      "source": [
        "\n",
        "> Використання функції `np.corrcoef` для обчислення коефіцієнта кореляції:\n",
        "\n",
        "\n",
        "\n"
      ],
      "metadata": {
        "id": "tAyte5IHooQG"
      }
    },
    {
      "cell_type": "code",
      "source": [
        "corr = np.corrcoef(data, data2)\n",
        "print(corr)\n"
      ],
      "metadata": {
        "colab": {
          "base_uri": "https://localhost:8080/"
        },
        "id": "57h9PJLHowWS",
        "outputId": "a7b276c7-a009-4eb9-fd60-d6c2d7e0a807"
      },
      "execution_count": 27,
      "outputs": [
        {
          "output_type": "stream",
          "name": "stdout",
          "text": [
            "[[1. 1.]\n",
            " [1. 1.]]\n"
          ]
        }
      ]
    }
  ]
}