{
  "nbformat": 4,
  "nbformat_minor": 0,
  "metadata": {
    "colab": {
      "provenance": [],
      "authorship_tag": "ABX9TyPML2KJH1MrJIQ2bvX1KiUX",
      "include_colab_link": true
    },
    "kernelspec": {
      "name": "python3",
      "display_name": "Python 3"
    },
    "language_info": {
      "name": "python"
    }
  },
  "cells": [
    {
      "cell_type": "markdown",
      "metadata": {
        "id": "view-in-github",
        "colab_type": "text"
      },
      "source": [
        "<a href=\"https://colab.research.google.com/github/Anna-Tereshchuk/Data-Engineering-Notebooks/blob/main/OOP_with_py_Classes_and_objects.ipynb\" target=\"_parent\"><img src=\"https://colab.research.google.com/assets/colab-badge.svg\" alt=\"Open In Colab\"/></a>"
      ]
    },
    {
      "cell_type": "markdown",
      "source": [
        "**Розуміння класів та об’єктів**\n",
        "\n",
        "\n",
        "\n",
        "> Що таке клас?\n",
        "\n",
        "Клас можна уявити як креслення або шаблон для створення об’єктів з певними атрибутами та поведінкою. Наприклад, якщо розглядати автомобіль як клас, то його атрибутами можуть бути колір, вага, модель, а поведінкою - рух, реверс, застосування гальм.\n",
        "\n",
        "\n",
        "> Що таке об’єкт?\n",
        "\n",
        "Об’єкт є екземпляром класу. Наприклад, автомобіль представляє клас, тоді як конкретний автомобіль, наприклад, BMW або Mercedes, з певним ім’ям, кольором та номером моделі буде об’єктом.\n",
        "\n"
      ],
      "metadata": {
        "id": "HljihfsOu3Md"
      }
    },
    {
      "cell_type": "markdown",
      "source": [
        "**Створення класу**\n",
        "\n",
        "\n",
        "> Визначення класу:\n",
        "\n",
        "Для створення класу використовується ключове слово `class`, після якого йде назва класу. Наприклад, створимо клас Employee:\n",
        "\n"
      ],
      "metadata": {
        "id": "KlRlwj7ZxbX8"
      }
    },
    {
      "cell_type": "code",
      "source": [
        "class Employee:\n",
        "    def __init__(self, name, position, salary):\n",
        "        self.name = name\n",
        "        self.position = position\n",
        "        self.salary = salary\n",
        "\n",
        "    def display_info(self):\n",
        "        return f\"Name: {self.name}, Position: {self.position}, Salary: {self.salary}\"\n"
      ],
      "metadata": {
        "id": "Dj6FCNWWs8dS"
      },
      "execution_count": 1,
      "outputs": []
    },
    {
      "cell_type": "markdown",
      "source": [
        "Метод ` __init__`\n",
        "\n",
        "\n",
        "*   Це спеціальний метод, який автоматично викликається при створенні об’єкта класу. Він ініціалізує атрибути об’єкта.\n",
        "* ` self` є посиланням на поточний об’єкт класу і використовується для доступу до атрибутів та методів класу.\n",
        "\n",
        "Метод `display_info`\n",
        "\n",
        "\n",
        "*   Цей метод повертає інформацію про об’єкт, включаючи ім’я, посаду та зарплату.\n",
        "\n",
        "\n",
        "\n"
      ],
      "metadata": {
        "id": "vQsVDGgntDqi"
      }
    },
    {
      "cell_type": "markdown",
      "source": [
        "\n",
        "\n",
        "> Створення об’єкта\n",
        "\n",
        "\n",
        "Створення об’єктів класу `Employee`\n",
        "\n",
        "\n",
        "*  Створимо два об’єкти класу Employee з різними значеннями атрибутів:\n",
        "\n",
        "\n"
      ],
      "metadata": {
        "id": "UkVSLkm3xqNM"
      }
    },
    {
      "cell_type": "code",
      "source": [
        "employee1 = Employee(\"John Doe\", \"Manager\", 75000)\n",
        "employee2 = Employee(\"Jane Smith\", \"Developer\", 85000)\n"
      ],
      "metadata": {
        "id": "oekZgOtUt3sJ"
      },
      "execution_count": 2,
      "outputs": []
    },
    {
      "cell_type": "markdown",
      "source": [
        "\n",
        "\n",
        "> Виклик методів об’єкта:\n",
        "\n",
        "\n",
        "*   Використовуючи оператор крапки, можна викликати методи об’єкта:\n",
        "\n",
        "\n",
        "\n",
        "\n"
      ],
      "metadata": {
        "id": "yZolTiWmt6eB"
      }
    },
    {
      "cell_type": "code",
      "source": [
        "print(employee1.display_info())\n",
        "print(employee2.display_info())"
      ],
      "metadata": {
        "colab": {
          "base_uri": "https://localhost:8080/"
        },
        "id": "hQLoyhbZuGqk",
        "outputId": "9cbb591a-a147-43ed-abda-8b33ebdaf7f4"
      },
      "execution_count": 3,
      "outputs": [
        {
          "output_type": "stream",
          "name": "stdout",
          "text": [
            "Name: John Doe, Position: Manager, Salary: 75000\n",
            "Name: Jane Smith, Position: Developer, Salary: 85000\n"
          ]
        }
      ]
    },
    {
      "cell_type": "markdown",
      "source": [
        "\n",
        "\n",
        "> Зміна атрибутів об’єкта:\n",
        "\n",
        "\n",
        "*   Можна змінювати значення атрибутів об’єкта:\n",
        "\n",
        "\n",
        "\n",
        "\n"
      ],
      "metadata": {
        "id": "TxH-BMyzuNaM"
      }
    },
    {
      "cell_type": "code",
      "source": [
        "employee1.salary = 100000\n",
        "print(employee1.display_info())\n"
      ],
      "metadata": {
        "colab": {
          "base_uri": "https://localhost:8080/"
        },
        "id": "CwA3XUH2uVub",
        "outputId": "70c699c5-2625-405f-fffa-c46d52e4fcab"
      },
      "execution_count": 4,
      "outputs": [
        {
          "output_type": "stream",
          "name": "stdout",
          "text": [
            "Name: John Doe, Position: Manager, Salary: 100000\n"
          ]
        }
      ]
    }
  ]
}