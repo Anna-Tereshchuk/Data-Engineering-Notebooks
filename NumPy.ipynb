{
  "nbformat": 4,
  "nbformat_minor": 0,
  "metadata": {
    "colab": {
      "provenance": [],
      "authorship_tag": "ABX9TyMx7tB1ntKS0JY0Muq7UFtS",
      "include_colab_link": true
    },
    "kernelspec": {
      "name": "python3",
      "display_name": "Python 3"
    },
    "language_info": {
      "name": "python"
    }
  },
  "cells": [
    {
      "cell_type": "markdown",
      "metadata": {
        "id": "view-in-github",
        "colab_type": "text"
      },
      "source": [
        "<a href=\"https://colab.research.google.com/github/Anna-Tereshchuk/Data-Engineering-Notebooks/blob/main/NumPy.ipynb\" target=\"_parent\"><img src=\"https://colab.research.google.com/assets/colab-badge.svg\" alt=\"Open In Colab\"/></a>"
      ]
    },
    {
      "cell_type": "markdown",
      "source": [
        "**NumPy** (скорочено від Numerical Python) є основою числових обчислень у Python. Це потужний інструмент для роботи з масивами даних, який дозволяє виконувати швидкі математичні операції. NumPy інтегрується з Pandas, що робить аналіз даних ще швидшим та ефективнішим.\n",
        "\n",
        "**Основні можливості NumPy**\n",
        "\n",
        "\n",
        "**Масиви NumPy**\n",
        "*   **Одновимірні масиви:** Використовуються для роботи з лінійними даними, такими як ціни на акції.\n",
        "*   **Багатовимірні масиви:** Використовуються для роботи з даними, що мають більше одного виміру, наприклад, зображення\n",
        "\n",
        "**Елементні операції:**\n",
        "\n",
        "\n",
        "\n",
        "*   NumPy дозволяє виконувати операції над кожним елементом масиву, наприклад, множення кожного елемента на певне число.\n",
        "*   **Broadcasting:** Дозволяє виконувати операції над масивами різних форм.\n",
        "\n",
        "**Статистика та агрегації:**\n",
        "\n",
        "\n",
        "\n",
        "*   NumPy спрощує обчислення статистичних показників, таких як середнє значення, медіана, стандартне відхилення тощо.\n",
        "\n",
        "\n",
        "\n",
        "\n",
        "\n",
        "\n",
        "\n"
      ],
      "metadata": {
        "id": "r7x1Q42P6hHy"
      }
    },
    {
      "cell_type": "code",
      "source": [
        "import numpy as np\n",
        "\n",
        "\n",
        "# Одновимірний масив\n",
        "array_1d = np.array([1, 2, 3, 4, 5])\n",
        "\n",
        "# Багатовимірний масив\n",
        "array_2d = np.array([[1, 2, 3], [4, 5, 6]])\n"
      ],
      "metadata": {
        "id": "XQKyziSg76d8"
      },
      "execution_count": 1,
      "outputs": []
    },
    {
      "cell_type": "code",
      "source": [
        "# Множення кожного елемента на 10\n",
        "array_1d * 10\n"
      ],
      "metadata": {
        "colab": {
          "base_uri": "https://localhost:8080/"
        },
        "id": "D9D25lzi8EQ3",
        "outputId": "6bf1f742-1909-48e8-cf73-b03e99b7e9a1"
      },
      "execution_count": 2,
      "outputs": [
        {
          "output_type": "execute_result",
          "data": {
            "text/plain": [
              "array([10, 20, 30, 40, 50])"
            ]
          },
          "metadata": {},
          "execution_count": 2
        }
      ]
    },
    {
      "cell_type": "code",
      "source": [
        "# Середнє значення\n",
        "np.mean(array_1d)\n"
      ],
      "metadata": {
        "colab": {
          "base_uri": "https://localhost:8080/"
        },
        "id": "3oytS1Uf8IkR",
        "outputId": "a23c671d-8110-4534-c2d9-ed118375f870"
      },
      "execution_count": 4,
      "outputs": [
        {
          "output_type": "execute_result",
          "data": {
            "text/plain": [
              "3.0"
            ]
          },
          "metadata": {},
          "execution_count": 4
        }
      ]
    },
    {
      "cell_type": "code",
      "source": [
        "# Медіана\n",
        "np.median(array_1d)"
      ],
      "metadata": {
        "colab": {
          "base_uri": "https://localhost:8080/"
        },
        "id": "AFMD2yMl8Q4v",
        "outputId": "2301bde2-64f1-4178-dc81-1bdf4005f116"
      },
      "execution_count": 5,
      "outputs": [
        {
          "output_type": "execute_result",
          "data": {
            "text/plain": [
              "3.0"
            ]
          },
          "metadata": {},
          "execution_count": 5
        }
      ]
    },
    {
      "cell_type": "code",
      "source": [
        "# Стандартне відхилення\n",
        "np.std(array_1d)"
      ],
      "metadata": {
        "colab": {
          "base_uri": "https://localhost:8080/"
        },
        "id": "AxfXMxD-8Uak",
        "outputId": "18166ec2-8ede-46c1-de4a-9f463117a832"
      },
      "execution_count": 6,
      "outputs": [
        {
          "output_type": "execute_result",
          "data": {
            "text/plain": [
              "1.4142135623730951"
            ]
          },
          "metadata": {},
          "execution_count": 6
        }
      ]
    }
  ]
}