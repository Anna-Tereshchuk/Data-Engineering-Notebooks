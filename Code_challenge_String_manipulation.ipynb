{
  "nbformat": 4,
  "nbformat_minor": 0,
  "metadata": {
    "colab": {
      "provenance": [],
      "authorship_tag": "ABX9TyPpGHuiCcVjwbJRjUyIJJ1k",
      "include_colab_link": true
    },
    "kernelspec": {
      "name": "python3",
      "display_name": "Python 3"
    },
    "language_info": {
      "name": "python"
    }
  },
  "cells": [
    {
      "cell_type": "markdown",
      "metadata": {
        "id": "view-in-github",
        "colab_type": "text"
      },
      "source": [
        "<a href=\"https://colab.research.google.com/github/Anna-Tereshchuk/Data-Engineering-Notebooks/blob/main/Code_challenge_String_manipulation.ipynb\" target=\"_parent\"><img src=\"https://colab.research.google.com/assets/colab-badge.svg\" alt=\"Open In Colab\"/></a>"
      ]
    },
    {
      "cell_type": "code",
      "execution_count": null,
      "metadata": {
        "id": "MocW5GIDHxK9"
      },
      "outputs": [],
      "source": []
    },
    {
      "cell_type": "markdown",
      "source": [
        "\n",
        "*   перевіряється, чи число більше 10. Якщо так, виводиться “Greater”, інакше - “Smaller”.\n",
        "\n",
        "\n",
        "\n",
        "\n"
      ],
      "metadata": {
        "id": "R9mrcuqKMQHc"
      }
    },
    {
      "cell_type": "code",
      "source": [
        "num = 7\n",
        "if num > 10:\n",
        "    print(\"Greater\")\n",
        "else:\n",
        "    print(\"Smaller\")\n"
      ],
      "metadata": {
        "colab": {
          "base_uri": "https://localhost:8080/"
        },
        "id": "WsoiyiL3LbQS",
        "outputId": "97b26a83-1370-4c0b-be2e-3088c107ef66"
      },
      "execution_count": 2,
      "outputs": [
        {
          "output_type": "stream",
          "name": "stdout",
          "text": [
            "Smaller\n"
          ]
        }
      ]
    },
    {
      "cell_type": "markdown",
      "source": [
        "\n",
        "\n",
        "*   Цей цикл буде виконуватись 5 разів, виводячи значення i від 0 до 4.\n",
        "\n"
      ],
      "metadata": {
        "id": "enAlXj0HMDmY"
      }
    },
    {
      "cell_type": "code",
      "source": [
        "for i in range(5):\n",
        "    print(i)\n"
      ],
      "metadata": {
        "colab": {
          "base_uri": "https://localhost:8080/"
        },
        "id": "w176L5Q2LhKe",
        "outputId": "f21ad215-65ba-4c2a-c8e5-9d6ae704dbb8"
      },
      "execution_count": 3,
      "outputs": [
        {
          "output_type": "stream",
          "name": "stdout",
          "text": [
            "0\n",
            "1\n",
            "2\n",
            "3\n",
            "4\n"
          ]
        }
      ]
    },
    {
      "cell_type": "markdown",
      "source": [
        "\n",
        "\n",
        "*   Цей цикл буде виконуватись, поки значення number більше 0. Кожного разу значення number зменшується на 1.\n",
        "\n",
        "\n"
      ],
      "metadata": {
        "id": "qlLuhVbXL5QA"
      }
    },
    {
      "cell_type": "code",
      "source": [
        "number = 5\n",
        "while number > 0:\n",
        "    print(number)\n",
        "    number -= 1\n"
      ],
      "metadata": {
        "colab": {
          "base_uri": "https://localhost:8080/"
        },
        "id": "fxL4-1h9LrsI",
        "outputId": "47033d75-398b-4ed2-ccd8-f1bd41531731"
      },
      "execution_count": 4,
      "outputs": [
        {
          "output_type": "stream",
          "name": "stdout",
          "text": [
            "5\n",
            "4\n",
            "3\n",
            "2\n",
            "1\n"
          ]
        }
      ]
    },
    {
      "cell_type": "markdown",
      "source": [
        "\n",
        "\n",
        "*   Якщо змінити умову на while number >= 0:, цикл буде виконуватись до тих пір, поки значення number більше або дорівнює 0.\n",
        "\n",
        "\n"
      ],
      "metadata": {
        "id": "OC54pMl0MtsO"
      }
    },
    {
      "cell_type": "code",
      "source": [
        "number = 5\n",
        "while number >= 0:\n",
        "    print(number)\n",
        "    number -= 1\n"
      ],
      "metadata": {
        "colab": {
          "base_uri": "https://localhost:8080/"
        },
        "id": "k966zhe1NSuc",
        "outputId": "78000701-4fa2-4bd2-dc7b-dbf24cec6b07"
      },
      "execution_count": 5,
      "outputs": [
        {
          "output_type": "stream",
          "name": "stdout",
          "text": [
            "5\n",
            "4\n",
            "3\n",
            "2\n",
            "1\n",
            "0\n"
          ]
        }
      ]
    },
    {
      "cell_type": "markdown",
      "source": [
        "\n",
        "\n",
        "*   **Термінування циклу:** Цикл while завершується, коли умова стає хибною.\n",
        "*   **Контроль потоку:** Структури керування дозволяють контролювати потік виконання вашого коду, що є ключовим для написання динамічного та інтерактивного коду на Python\n",
        "\n"
      ],
      "metadata": {
        "id": "cx9_x-g7NlIx"
      }
    },
    {
      "cell_type": "markdown",
      "source": [
        "\n",
        "\n",
        "*  **Індентація:** В Python відступи мають значення. Вони визначають блоки коду.\n",
        "\n",
        "\n",
        "*   **Синтаксис:** Після умови в if та while використовується двокрапка :\n",
        "\n",
        "\n",
        "\n",
        "\n"
      ],
      "metadata": {
        "id": "xSKx5tHYMgj2"
      }
    },
    {
      "cell_type": "markdown",
      "source": [
        "\n",
        "\n",
        "*  **Функція reverse_string**: Ми визначаємо функцію, яка приймає рядок text як аргумент і повертає перевернутий рядок.\n",
        "*   **Оператор зрізу** [::-1]: Перший двокрапка вказує, що зріз починається з початку рядка, другий двокрапка вказує, що зріз триває до кінця рядка, а -1 означає, що ми беремо кожен символ у зворотному порядку.\n",
        "*   **Тестування функції:** Ми створюємо тестовий рядок test_string, перевертаємо його за допомогою функції reverse_string і виводимо оригінальний та перевернутий рядки.\n",
        "\n",
        "\n",
        "\n"
      ],
      "metadata": {
        "id": "jcP-KYXbOzPF"
      }
    },
    {
      "cell_type": "code",
      "source": [
        "def reverse_string(text):\n",
        "    # Use slicing to reverse the string\n",
        "    return text[::-1]\n",
        "\n",
        "# Test string\n",
        "test_string = \"Hello, World!\"\n",
        "\n",
        "# Call the function to reverse the string\n",
        "result = reverse_string(test_string)\n",
        "\n",
        "# Print the original and reversed strings\n",
        "print(\"Original string:\", test_string)\n",
        "print(\"Reversed string:\", result)\n"
      ],
      "metadata": {
        "colab": {
          "base_uri": "https://localhost:8080/"
        },
        "id": "Nw_QOIfpKXjr",
        "outputId": "40752220-2ac1-468c-b723-5ec5aab9ddc3"
      },
      "execution_count": 1,
      "outputs": [
        {
          "output_type": "stream",
          "name": "stdout",
          "text": [
            "Original string: Hello, World!\n",
            "Reversed string: !dlroW ,olleH\n"
          ]
        }
      ]
    }
  ]
}