{
  "nbformat": 4,
  "nbformat_minor": 0,
  "metadata": {
    "colab": {
      "provenance": [],
      "authorship_tag": "ABX9TyOW6yWrZFq5cK+qOVLYZ7g6",
      "include_colab_link": true
    },
    "kernelspec": {
      "name": "python3",
      "display_name": "Python 3"
    },
    "language_info": {
      "name": "python"
    }
  },
  "cells": [
    {
      "cell_type": "markdown",
      "metadata": {
        "id": "view-in-github",
        "colab_type": "text"
      },
      "source": [
        "<a href=\"https://colab.research.google.com/github/Anna-Tereshchuk/Data-Engineering-Notebooks/blob/main/Code_challenge_String_manipulation.ipynb\" target=\"_parent\"><img src=\"https://colab.research.google.com/assets/colab-badge.svg\" alt=\"Open In Colab\"/></a>"
      ]
    },
    {
      "cell_type": "code",
      "execution_count": null,
      "metadata": {
        "id": "MocW5GIDHxK9"
      },
      "outputs": [],
      "source": []
    },
    {
      "cell_type": "markdown",
      "source": [
        "\n",
        "*   перевіряється, чи число більше 10. Якщо так, виводиться “Greater”, інакше - “Smaller”.\n",
        "\n",
        "\n",
        "\n",
        "\n"
      ],
      "metadata": {
        "id": "R9mrcuqKMQHc"
      }
    },
    {
      "cell_type": "code",
      "source": [
        "num = 7\n",
        "if num > 10:\n",
        "    print(\"Greater\")\n",
        "else:\n",
        "    print(\"Smaller\")\n"
      ],
      "metadata": {
        "colab": {
          "base_uri": "https://localhost:8080/"
        },
        "id": "WsoiyiL3LbQS",
        "outputId": "97b26a83-1370-4c0b-be2e-3088c107ef66"
      },
      "execution_count": 2,
      "outputs": [
        {
          "output_type": "stream",
          "name": "stdout",
          "text": [
            "Smaller\n"
          ]
        }
      ]
    },
    {
      "cell_type": "markdown",
      "source": [
        "\n",
        "\n",
        "*   Цей цикл буде виконуватись 5 разів, виводячи значення i від 0 до 4.\n",
        "\n"
      ],
      "metadata": {
        "id": "enAlXj0HMDmY"
      }
    },
    {
      "cell_type": "code",
      "source": [
        "for i in range(5):\n",
        "    print(i)\n"
      ],
      "metadata": {
        "colab": {
          "base_uri": "https://localhost:8080/"
        },
        "id": "w176L5Q2LhKe",
        "outputId": "f21ad215-65ba-4c2a-c8e5-9d6ae704dbb8"
      },
      "execution_count": 3,
      "outputs": [
        {
          "output_type": "stream",
          "name": "stdout",
          "text": [
            "0\n",
            "1\n",
            "2\n",
            "3\n",
            "4\n"
          ]
        }
      ]
    },
    {
      "cell_type": "markdown",
      "source": [
        "\n",
        "\n",
        "*   Цей цикл буде виконуватись, поки значення number більше 0. Кожного разу значення number зменшується на 1.\n",
        "\n",
        "\n"
      ],
      "metadata": {
        "id": "qlLuhVbXL5QA"
      }
    },
    {
      "cell_type": "code",
      "source": [
        "number = 5\n",
        "while number > 0:\n",
        "    print(number)\n",
        "    number -= 1\n"
      ],
      "metadata": {
        "colab": {
          "base_uri": "https://localhost:8080/"
        },
        "id": "fxL4-1h9LrsI",
        "outputId": "47033d75-398b-4ed2-ccd8-f1bd41531731"
      },
      "execution_count": 4,
      "outputs": [
        {
          "output_type": "stream",
          "name": "stdout",
          "text": [
            "5\n",
            "4\n",
            "3\n",
            "2\n",
            "1\n"
          ]
        }
      ]
    },
    {
      "cell_type": "markdown",
      "source": [
        "\n",
        "\n",
        "*   Якщо змінити умову на while number >= 0:, цикл буде виконуватись до тих пір, поки значення number більше або дорівнює 0.\n",
        "\n",
        "\n"
      ],
      "metadata": {
        "id": "OC54pMl0MtsO"
      }
    },
    {
      "cell_type": "code",
      "source": [
        "number = 5\n",
        "while number >= 0:\n",
        "    print(number)\n",
        "    number -= 1\n"
      ],
      "metadata": {
        "colab": {
          "base_uri": "https://localhost:8080/"
        },
        "id": "k966zhe1NSuc",
        "outputId": "78000701-4fa2-4bd2-dc7b-dbf24cec6b07"
      },
      "execution_count": 5,
      "outputs": [
        {
          "output_type": "stream",
          "name": "stdout",
          "text": [
            "5\n",
            "4\n",
            "3\n",
            "2\n",
            "1\n",
            "0\n"
          ]
        }
      ]
    },
    {
      "cell_type": "markdown",
      "source": [
        "\n",
        "\n",
        "*   **Термінування циклу:** Цикл while завершується, коли умова стає хибною.\n",
        "*   **Контроль потоку:** Структури керування дозволяють контролювати потік виконання вашого коду, що є ключовим для написання динамічного та інтерактивного коду на Python\n",
        "\n"
      ],
      "metadata": {
        "id": "cx9_x-g7NlIx"
      }
    },
    {
      "cell_type": "markdown",
      "source": [
        "\n",
        "\n",
        "*  **Індентація:** В Python відступи мають значення. Вони визначають блоки коду.\n",
        "\n",
        "\n",
        "*   **Синтаксис:** Після умови в if та while використовується двокрапка :\n",
        "\n",
        "\n",
        "\n",
        "\n"
      ],
      "metadata": {
        "id": "xSKx5tHYMgj2"
      }
    },
    {
      "cell_type": "markdown",
      "source": [
        "**Функції в Python**\n",
        "\n",
        "\n",
        "*   Функція в Python - це блок багаторазового коду, який виконує конкретне завдання.\n",
        "*   Функції допомагають розбити програму на менші та модульні частини.\n",
        "\n",
        "*   Коли програма стає більшою, функції роблять її більш організованою та керованою.\n",
        "*   Створення функції в Python просте. Використовується ключове слово **def**, за яким слідує **ім’я функції** та **круглі дужки**.\n",
        "\n",
        "*   Щоб викликати функцію, потрібно написати її ім’я, слідом за яким йдуть круглі дужки.\n",
        "\n",
        "\n",
        "\n",
        "\n"
      ],
      "metadata": {
        "id": "cTDFXmkfTxst"
      }
    },
    {
      "cell_type": "code",
      "source": [
        "def greet():\n",
        "    print(\"Hello, world!\")\n",
        "greet()\n",
        "\n"
      ],
      "metadata": {
        "colab": {
          "base_uri": "https://localhost:8080/"
        },
        "id": "JIvN2-dAURRt",
        "outputId": "8de3ae89-25f3-46ec-dbee-365589fc71ca"
      },
      "execution_count": 8,
      "outputs": [
        {
          "output_type": "stream",
          "name": "stdout",
          "text": [
            "Hello, world!\n"
          ]
        }
      ]
    },
    {
      "cell_type": "markdown",
      "source": [
        "**Функції з параметрами:**\n",
        "\n",
        "\n",
        "*   Іноді функції приймають параметри, які дозволяють передавати дані у функцію.\n",
        "\n",
        "\n"
      ],
      "metadata": {
        "id": "GZ0iOYWtUenf"
      }
    },
    {
      "cell_type": "code",
      "source": [
        "def greet(name):\n",
        "    print(f\"Hello, {name}!\")\n",
        "greet(\"Anna\")\n"
      ],
      "metadata": {
        "colab": {
          "base_uri": "https://localhost:8080/"
        },
        "id": "c2RE4JgFU9H3",
        "outputId": "fa2831d4-24be-44fb-f262-9bda50c00062"
      },
      "execution_count": 10,
      "outputs": [
        {
          "output_type": "stream",
          "name": "stdout",
          "text": [
            "Hello, Anna!\n"
          ]
        }
      ]
    },
    {
      "cell_type": "markdown",
      "source": [
        "**Повернення значень з функцій:**\n",
        "\n",
        "\n",
        "*   Функції можуть не тільки приймати аргументи, але й повертати значення.\n",
        "*   Ця функція приймає два числа і повертає їх суму\n",
        "\n",
        "\n",
        "\n",
        "\n"
      ],
      "metadata": {
        "id": "EbyPKovAVJXe"
      }
    },
    {
      "cell_type": "code",
      "source": [
        "def add_numbers(num1, num2):\n",
        "    return num1 + num2\n",
        "result = add_numbers(3, 5)\n",
        "print(result)  # Виведе 8\n"
      ],
      "metadata": {
        "colab": {
          "base_uri": "https://localhost:8080/"
        },
        "id": "4WXP6SQIVoMM",
        "outputId": "9923e3b1-cf9e-4449-ed3f-ffd9cea30495"
      },
      "execution_count": 11,
      "outputs": [
        {
          "output_type": "stream",
          "name": "stdout",
          "text": [
            "8\n"
          ]
        }
      ]
    },
    {
      "cell_type": "markdown",
      "source": [
        "\n",
        "\n",
        "*  **Модульність:** Функції допомагають зробити код більш модульним і легким для розуміння.\n",
        "*   **Повторне використання:** Функції дозволяють повторно використовувати код без необхідності його дублювання.\n",
        "\n",
        "*  **Організація:** Використання функцій робить програму більш організованою та легкою для підтримки.\n",
        "\n",
        "\n",
        "\n",
        "\n"
      ],
      "metadata": {
        "id": "Bftv0wUlVw1E"
      }
    },
    {
      "cell_type": "markdown",
      "source": [
        "\n",
        "\n",
        "*  **Функція reverse_string**: Ми визначаємо функцію, яка приймає рядок text як аргумент і повертає перевернутий рядок.\n",
        "*   **Оператор зрізу** [::-1]: Перший двокрапка вказує, що зріз починається з початку рядка, другий двокрапка вказує, що зріз триває до кінця рядка, а -1 означає, що ми беремо кожен символ у зворотному порядку.\n",
        "*   **Тестування функції:** Ми створюємо тестовий рядок test_string, перевертаємо його за допомогою функції reverse_string і виводимо оригінальний та перевернутий рядки.\n",
        "\n",
        "\n",
        "\n"
      ],
      "metadata": {
        "id": "jcP-KYXbOzPF"
      }
    },
    {
      "cell_type": "code",
      "source": [
        "def reverse_string(text):\n",
        "    # Use slicing to reverse the string\n",
        "    return text[::-1]\n",
        "\n",
        "# Test string\n",
        "test_string = \"Hello, World!\"\n",
        "\n",
        "# Call the function to reverse the string\n",
        "result = reverse_string(test_string)\n",
        "\n",
        "# Print the original and reversed strings\n",
        "print(\"Original string:\", test_string)\n",
        "print(\"Reversed string:\", result)\n"
      ],
      "metadata": {
        "colab": {
          "base_uri": "https://localhost:8080/"
        },
        "id": "Nw_QOIfpKXjr",
        "outputId": "40752220-2ac1-468c-b723-5ec5aab9ddc3"
      },
      "execution_count": 1,
      "outputs": [
        {
          "output_type": "stream",
          "name": "stdout",
          "text": [
            "Original string: Hello, World!\n",
            "Reversed string: !dlroW ,olleH\n"
          ]
        }
      ]
    }
  ]
}