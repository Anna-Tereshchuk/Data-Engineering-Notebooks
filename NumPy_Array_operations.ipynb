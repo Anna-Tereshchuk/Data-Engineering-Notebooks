{
  "nbformat": 4,
  "nbformat_minor": 0,
  "metadata": {
    "colab": {
      "provenance": [],
      "authorship_tag": "ABX9TyMWgfwP90uifUVj3Y8S8kz8",
      "include_colab_link": true
    },
    "kernelspec": {
      "name": "python3",
      "display_name": "Python 3"
    },
    "language_info": {
      "name": "python"
    }
  },
  "cells": [
    {
      "cell_type": "markdown",
      "metadata": {
        "id": "view-in-github",
        "colab_type": "text"
      },
      "source": [
        "<a href=\"https://colab.research.google.com/github/Anna-Tereshchuk/Data-Engineering-Notebooks/blob/main/NumPy_Array_operations.ipynb\" target=\"_parent\"><img src=\"https://colab.research.google.com/assets/colab-badge.svg\" alt=\"Open In Colab\"/></a>"
      ]
    },
    {
      "cell_type": "markdown",
      "source": [
        "**NumPy** (скорочено від Numerical Python) є основою числових обчислень у Python. Це потужний інструмент для роботи з масивами даних, який дозволяє виконувати швидкі математичні операції. NumPy інтегрується з Pandas, що робить аналіз даних ще швидшим та ефективнішим.\n",
        "\n",
        "\n",
        "\n",
        "\n"
      ],
      "metadata": {
        "id": "r7x1Q42P6hHy"
      }
    },
    {
      "cell_type": "code",
      "source": [
        "import numpy as np\n"
      ],
      "metadata": {
        "id": "ZVvcfzcfzp2M"
      },
      "execution_count": 1,
      "outputs": []
    },
    {
      "cell_type": "markdown",
      "source": [
        "**Операції з масивами в NumPy**"
      ],
      "metadata": {
        "id": "2J5yNc-wz8OH"
      }
    },
    {
      "cell_type": "markdown",
      "source": [
        "**Створення двох масивів:**"
      ],
      "metadata": {
        "id": "buBR9k375g9N"
      }
    },
    {
      "cell_type": "code",
      "source": [
        "array1 = np.array([1, 2, 3, 4, 5])\n",
        "array2 = np.array([6, 7, 8, 9, 10])\n"
      ],
      "metadata": {
        "id": "sOhFGMMh5lxy"
      },
      "execution_count": 12,
      "outputs": []
    },
    {
      "cell_type": "markdown",
      "source": [
        "**Додавання масивів:**"
      ],
      "metadata": {
        "id": "N-LCLMvt5uQK"
      }
    },
    {
      "cell_type": "code",
      "source": [
        "sum_array = array1 + array2\n",
        "print(sum_array)"
      ],
      "metadata": {
        "colab": {
          "base_uri": "https://localhost:8080/"
        },
        "id": "7nlS2E4R5vcS",
        "outputId": "06e5cbd5-51cc-4122-8357-3d6232e95ca3"
      },
      "execution_count": 22,
      "outputs": [
        {
          "output_type": "stream",
          "name": "stdout",
          "text": [
            "[ 7  9 11 13 15]\n"
          ]
        }
      ]
    },
    {
      "cell_type": "markdown",
      "source": [
        "**Віднімання масивів:**"
      ],
      "metadata": {
        "id": "RjuEybku504e"
      }
    },
    {
      "cell_type": "code",
      "source": [
        "sub_array = array1 - array2\n",
        "print(sub_array)"
      ],
      "metadata": {
        "colab": {
          "base_uri": "https://localhost:8080/"
        },
        "id": "9QdzgAZx5__Y",
        "outputId": "69d50678-30d9-4aa9-833f-3947ad5bb3ad"
      },
      "execution_count": 23,
      "outputs": [
        {
          "output_type": "stream",
          "name": "stdout",
          "text": [
            "[-5 -5 -5 -5 -5]\n"
          ]
        }
      ]
    },
    {
      "cell_type": "markdown",
      "source": [
        "У Python, коли ви використовуєте бібліотеку NumPy, віднімання масивів працює за принципом елементного обчислення (element-wise operation). Це означає, що для кожного елемента з першого масиву буде відніматися відповідний елемент з другого масиву, і результатом буде новий масив із такими ж розмірами.\n",
        "\n",
        "\n",
        "> Розміри масивів повинні бути однакові.\n",
        "\n",
        "Якщо масиви мають різні розміри, буде виникати помилка, оскільки NumPy не зможе виконати операцію елемент за елементом.\n",
        "\n",
        "\n",
        "> broadcasting\n",
        "Якщо один з масивів є скалярним (наприклад, число 5), то NumPy застосує це число до кожного елемента другого масиву.\n",
        "\n",
        "\n",
        "```\n",
        "array1 - 5  # Результат: [-4 -3 -2 -1  0]\n",
        "\n",
        "```\n",
        "\n",
        "\n",
        "\n",
        "> Типи даних\n",
        "Якщо масиви мають різні типи даних (наприклад, int і float), результат буде приведено до більш загального типу (в даному випадку float)\n",
        "\n",
        "\n",
        "\n",
        "\n",
        "\n"
      ],
      "metadata": {
        "id": "eakR-EFM6c6z"
      }
    },
    {
      "cell_type": "markdown",
      "source": [
        "**Множення масивів**"
      ],
      "metadata": {
        "id": "GP6YP1sB7aqs"
      }
    },
    {
      "cell_type": "code",
      "source": [
        "mul_array = array1 * array2\n",
        "print(mul_array)"
      ],
      "metadata": {
        "colab": {
          "base_uri": "https://localhost:8080/"
        },
        "id": "UhTThgIe7gfD",
        "outputId": "e60f930d-1a23-4df2-aa5e-ce38e4e23da8"
      },
      "execution_count": 24,
      "outputs": [
        {
          "output_type": "stream",
          "name": "stdout",
          "text": [
            "[ 6 14 24 36 50]\n"
          ]
        }
      ]
    },
    {
      "cell_type": "markdown",
      "source": [
        "**Ділення масивів**"
      ],
      "metadata": {
        "id": "_6-CEUCC7nwm"
      }
    },
    {
      "cell_type": "code",
      "source": [
        "div_array = array1 / array2\n",
        "print(div_array)\n"
      ],
      "metadata": {
        "colab": {
          "base_uri": "https://localhost:8080/"
        },
        "id": "P_EsXMi57qX5",
        "outputId": "c2c0a591-fa60-4c7c-fb90-936e6bc2e9e1"
      },
      "execution_count": 25,
      "outputs": [
        {
          "output_type": "stream",
          "name": "stdout",
          "text": [
            "[0.16666667 0.28571429 0.375      0.44444444 0.5       ]\n"
          ]
        }
      ]
    },
    {
      "cell_type": "markdown",
      "source": [
        "**Агрегаційні функції**\n",
        "\n",
        "\n",
        "\n"
      ],
      "metadata": {
        "id": "uNaeAk_a7zYL"
      }
    },
    {
      "cell_type": "markdown",
      "source": [
        "**Середнє значення:**"
      ],
      "metadata": {
        "id": "65DPyurd72Wf"
      }
    },
    {
      "cell_type": "code",
      "source": [
        "mean_value = np.mean(array1)\n",
        "print(mean_value)\n"
      ],
      "metadata": {
        "colab": {
          "base_uri": "https://localhost:8080/"
        },
        "id": "Et0qF8TK77EC",
        "outputId": "990ea0c9-785a-4f8b-a6e5-4906b14c439e"
      },
      "execution_count": 26,
      "outputs": [
        {
          "output_type": "stream",
          "name": "stdout",
          "text": [
            "3.0\n"
          ]
        }
      ]
    },
    {
      "cell_type": "markdown",
      "source": [
        "**Сума елементів:**\n"
      ],
      "metadata": {
        "id": "UY18fZPm7_Dr"
      }
    },
    {
      "cell_type": "code",
      "source": [
        "sum_value = np.sum(array1)\n",
        "print(sum_value)\n"
      ],
      "metadata": {
        "colab": {
          "base_uri": "https://localhost:8080/"
        },
        "id": "HpEj_9Ac8E_Y",
        "outputId": "02dcfdb4-7d28-4a94-a352-330eeec82601"
      },
      "execution_count": 27,
      "outputs": [
        {
          "output_type": "stream",
          "name": "stdout",
          "text": [
            "15\n"
          ]
        }
      ]
    },
    {
      "cell_type": "markdown",
      "source": [
        "**Максимальне значення**"
      ],
      "metadata": {
        "id": "im7AY6UK8Krw"
      }
    },
    {
      "cell_type": "code",
      "source": [
        "max_value = np.max(array1)\n",
        "print(max_value)\n"
      ],
      "metadata": {
        "colab": {
          "base_uri": "https://localhost:8080/"
        },
        "id": "r9HViqtu8Ndy",
        "outputId": "21be57b5-b00c-4dd8-b6d7-e41c3a75072c"
      },
      "execution_count": 28,
      "outputs": [
        {
          "output_type": "stream",
          "name": "stdout",
          "text": [
            "5\n"
          ]
        }
      ]
    },
    {
      "cell_type": "markdown",
      "source": [
        "**Мінімальне значення**"
      ],
      "metadata": {
        "id": "G7N5VbjM8Svs"
      }
    },
    {
      "cell_type": "code",
      "source": [
        "min_value = np.min(array1)\n",
        "print(min_value)\n"
      ],
      "metadata": {
        "colab": {
          "base_uri": "https://localhost:8080/"
        },
        "id": "CBtRpTh98UsQ",
        "outputId": "9b8b8bcb-8cd4-4bc8-af17-b6c69dc4ef36"
      },
      "execution_count": 29,
      "outputs": [
        {
          "output_type": "stream",
          "name": "stdout",
          "text": [
            "1\n"
          ]
        }
      ]
    },
    {
      "cell_type": "markdown",
      "source": [
        "**Логічні операції**\n",
        "\n",
        "**Порівняння елементів:**"
      ],
      "metadata": {
        "id": "yg7a6IuQ8png"
      }
    },
    {
      "cell_type": "code",
      "source": [
        "greater_than_three = array1 > 3\n",
        "print(greater_than_three)\n"
      ],
      "metadata": {
        "colab": {
          "base_uri": "https://localhost:8080/"
        },
        "id": "Nu6NOIdy8s3E",
        "outputId": "cce38d87-0c18-4162-8da4-d0f779d75e51"
      },
      "execution_count": 30,
      "outputs": [
        {
          "output_type": "stream",
          "name": "stdout",
          "text": [
            "[False False False  True  True]\n"
          ]
        }
      ]
    },
    {
      "cell_type": "markdown",
      "source": [
        "**Broadcasting**\n",
        "\n",
        "NumPy дозволяє виконувати операції над масивами різних форм, автоматично розширюючи їх до сумісних розмірів."
      ],
      "metadata": {
        "id": "0-_4aVet8waX"
      }
    }
  ]
}