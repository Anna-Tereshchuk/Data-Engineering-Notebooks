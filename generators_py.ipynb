{
  "nbformat": 4,
  "nbformat_minor": 0,
  "metadata": {
    "colab": {
      "provenance": [],
      "authorship_tag": "ABX9TyMOcRBY/j+QI5vUll4JmHCa",
      "include_colab_link": true
    },
    "kernelspec": {
      "name": "python3",
      "display_name": "Python 3"
    },
    "language_info": {
      "name": "python"
    }
  },
  "cells": [
    {
      "cell_type": "markdown",
      "metadata": {
        "id": "view-in-github",
        "colab_type": "text"
      },
      "source": [
        "<a href=\"https://colab.research.google.com/github/Anna-Tereshchuk/Data-Engineering-Notebooks/blob/main/generators_py.ipynb\" target=\"_parent\"><img src=\"https://colab.research.google.com/assets/colab-badge.svg\" alt=\"Open In Colab\"/></a>"
      ]
    },
    {
      "cell_type": "markdown",
      "source": [
        "**Звичайна функція (з return)**\n",
        "\n",
        "\n",
        "*   Коли викликається звичайна функція, вона виконується повністю, і після завершення повертає результат за допомогою return.\n",
        "*  Усі значення, які вона обчислює, зберігаються в пам'яті, що може бути витратним для великих обчислень.\n",
        "\n",
        "Що відбувається?\n",
        "\n",
        "Функція створює весь список чисел у пам'яті.\n",
        "Після цього список повертається ітеруємим об'єктом.\n",
        "Усе, що зберігається в списку, займає пам'ять одразу.\n",
        "\n"
      ],
      "metadata": {
        "id": "7gKbPSguyEsG"
      }
    },
    {
      "cell_type": "code",
      "source": [
        "def generate_numbers_list(n):\n",
        "    numbers = []\n",
        "    for i in range(n):\n",
        "        numbers.append(i)\n",
        "    return numbers\n",
        "\n",
        "# Виклик функції\n",
        "numbers = generate_numbers_list(10)\n",
        "for num in numbers:\n",
        "    print(num)\n"
      ],
      "metadata": {
        "colab": {
          "base_uri": "https://localhost:8080/"
        },
        "id": "DfEBY0tBx5Ud",
        "outputId": "4035b935-5332-4d6b-eb14-c83250b1b6b8"
      },
      "execution_count": 2,
      "outputs": [
        {
          "output_type": "stream",
          "name": "stdout",
          "text": [
            "0\n",
            "1\n",
            "2\n",
            "3\n",
            "4\n",
            "5\n",
            "6\n",
            "7\n",
            "8\n",
            "9\n"
          ]
        }
      ]
    },
    {
      "cell_type": "markdown",
      "source": [
        "**Генератор (з yield)**\n",
        "\n",
        "\n",
        "*   Генератор використовує ключове слово yield, яке дозволяє повертати значення по одному за раз без завершення виконання функції.\n",
        "*   Генератор не зберігає всі значення в пам'яті. Замість цього він \"запам'ятовує\" своє поточне місце виконання і повертається до нього при наступному виклику.\n",
        "\n",
        "\n",
        "*   Це робить генератори дуже ефективними з точки зору пам'яті\n",
        "\n",
        "**Що відбувається?**\n",
        "\n",
        "\n",
        "*   Функція викликається і повертає об'єкт генератора.\n",
        "*   Кожного разу, коли ми ітеруємося через gen, виконується наступний крок циклу, і значення повертається.\n",
        "\n",
        "\n",
        "*   Після повернення значення `yield` функція зупиняється і \"запам'ятовує\", де вона зупинилась.\n",
        "*   Коли значення більше немає, генератор завершує свою роботу.\n",
        "\n",
        "\n",
        "\n",
        "\n",
        "\n",
        "\n",
        "\n"
      ],
      "metadata": {
        "id": "z_8-Eg11yaIb"
      }
    },
    {
      "cell_type": "code",
      "execution_count": 1,
      "metadata": {
        "colab": {
          "base_uri": "https://localhost:8080/"
        },
        "id": "VdJAnCLrxWV-",
        "outputId": "59e37906-6351-4938-88cd-57fe03f62398"
      },
      "outputs": [
        {
          "output_type": "stream",
          "name": "stdout",
          "text": [
            "0\n",
            "1\n",
            "2\n",
            "3\n",
            "4\n",
            "5\n",
            "6\n",
            "7\n",
            "8\n",
            "9\n"
          ]
        }
      ],
      "source": [
        "def generate_numbers(n):\n",
        "    for i in range(n):\n",
        "        yield i\n",
        "\n",
        "gen = generate_numbers(10)\n",
        "for num in gen:\n",
        "    print(num)\n"
      ]
    },
    {
      "cell_type": "markdown",
      "source": [
        "**Найкращі практики використання генераторів**\n",
        "\n",
        "\n",
        "> Простота генераторів:\n",
        "\n",
        "\n",
        "\n",
        "*   Кожен генератор повинен мати чітку та конкретну мету.\n",
        "\n",
        "\n",
        "> Комбінування генераторів:\n",
        "\n",
        "\n",
        "*  Якщо можливо розбити складне завдання обробки даних на частини, використовуйте генератори.\n",
        "\n",
        "> Обробка помилок:\n",
        "\n",
        "\n",
        "*   Впровадження обробки помилок для керування винятками є однією з найкращих практик при використанні генераторів.\n",
        "\n",
        "\n",
        "\n",
        "\n",
        "\n",
        "\n"
      ],
      "metadata": {
        "id": "BZbcls_ZzFS-"
      }
    },
    {
      "cell_type": "markdown",
      "source": [
        "**Різниця в пам'яті**\n",
        "\n",
        "\n",
        "*   `Звичайна функція:` повертає одразу всі значення і може використовувати багато пам'яті для великих діапазонів.\n",
        "*   `Генератор: `створює значення \"на льоту\", зберігаючи лише поточний стан.\n",
        "\n",
        "**Ключова відмінність: yield проти return**\n",
        "\n",
        "`return `завершує виконання функції одразу.\n",
        "\n",
        "`yield` призупиняє виконання і запам'ятовує стан функції, дозволяючи продовжити з того місця.\n"
      ],
      "metadata": {
        "id": "FI--iM3b0Tla"
      }
    }
  ]
}