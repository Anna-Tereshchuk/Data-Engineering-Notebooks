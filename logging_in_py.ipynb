{
  "nbformat": 4,
  "nbformat_minor": 0,
  "metadata": {
    "colab": {
      "provenance": [],
      "authorship_tag": "ABX9TyM8xzEfSYEy3d/Cp2tTJ9l+",
      "include_colab_link": true
    },
    "kernelspec": {
      "name": "python3",
      "display_name": "Python 3"
    },
    "language_info": {
      "name": "python"
    }
  },
  "cells": [
    {
      "cell_type": "markdown",
      "metadata": {
        "id": "view-in-github",
        "colab_type": "text"
      },
      "source": [
        "<a href=\"https://colab.research.google.com/github/Anna-Tereshchuk/Data-Engineering-Notebooks/blob/main/logging_in_py.ipynb\" target=\"_parent\"><img src=\"https://colab.research.google.com/assets/colab-badge.svg\" alt=\"Open In Colab\"/></a>"
      ]
    },
    {
      "cell_type": "markdown",
      "source": [
        "**Логування** - це процес запису подій, що відбуваються під час виконання програми. Ці події можуть включати помилки, інформаційні повідомлення та відомості для налагодження. Логи надають спосіб зрозуміти, що відбувається всередині вашої програми, і допомагають діагностувати проблеми."
      ],
      "metadata": {
        "id": "Ux9pBGe-9Hlx"
      }
    },
    {
      "cell_type": "code",
      "source": [
        "import logging\n",
        "\n",
        "logging.basicConfig(level=logging.DEBUG)\n",
        "\n",
        "logging.debug(\"This is a debug message\")\n",
        "logging.info(\"This is an info message\")\n",
        "logging.warning(\"This is a warning message\")\n",
        "logging.error(\"This is an error message\")\n",
        "logging.critical(\"This is a critical message\")\n"
      ],
      "metadata": {
        "id": "d09d3DHw9OyN"
      },
      "execution_count": null,
      "outputs": []
    },
    {
      "cell_type": "markdown",
      "source": [
        "**Кастомне логування в Python**\n",
        "\n",
        "Для створення кастомного логера можна використовувати метод `logging.getLogger`. Це дозволяє створювати кілька логерів з різними іменами."
      ],
      "metadata": {
        "id": "r1lywaDU9TSE"
      }
    },
    {
      "cell_type": "code",
      "source": [
        "import logging\n",
        "\n",
        "# Створення кастомного логера\n",
        "logger = logging.getLogger('my_finance_module_logger')\n",
        "logger.setLevel(logging.DEBUG)\n",
        "\n",
        "# Створення обробника файлів\n",
        "file_handler = logging.FileHandler('finance.log')\n",
        "file_handler.setLevel(logging.DEBUG)\n",
        "\n",
        "# Створення форматувальника\n",
        "formatter = logging.Formatter('%(asctime)s - %(name)s - %(levelname)s - %(message)s')\n",
        "file_handler.setFormatter(formatter)\n",
        "\n",
        "# Додавання обробника до логера\n",
        "logger.addHandler(file_handler)\n",
        "\n",
        "# Приклад логування повідомлень\n",
        "logger.debug('This is a debug message')\n",
        "logger.info('This is an info message')\n",
        "logger.warning('This is a warning message')\n",
        "logger.error('This is an error message')\n",
        "logger.critical('This is a critical message')\n"
      ],
      "metadata": {
        "id": "R7GnIfJr9aeX"
      },
      "execution_count": null,
      "outputs": []
    },
    {
      "cell_type": "markdown",
      "source": [
        "**Імпорт модуля logging:** Імпортуємо необхідний модуль.\n",
        "\n",
        "\n",
        "\n",
        "**Створення логера:** Використовуємо `logging.getLogger` для створення логера з кастомним ім’ям.\n",
        "\n",
        "**Налаштування рівня логування:** Встановлюємо рівень логування на DEBUG.\n",
        "\n",
        "**Створення обробника файлів:** Використовуємо `logging.FileHandler` для запису логів у файл.\n",
        "\n",
        "**Створення форматувальника:** Визначаємо формат логів, включаючи час, ім’я логера, рівень логування та повідомлення.\n",
        "\n",
        "**Додавання обробника до логера:** Додаємо обробник до логера.\n",
        "Логування повідомлень: Використовуємо методи логера для запису повідомлень різних рівнів."
      ],
      "metadata": {
        "id": "0vthHPUb9g9j"
      }
    }
  ]
}