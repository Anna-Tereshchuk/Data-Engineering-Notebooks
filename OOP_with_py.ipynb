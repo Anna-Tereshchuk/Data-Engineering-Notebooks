{
  "nbformat": 4,
  "nbformat_minor": 0,
  "metadata": {
    "colab": {
      "provenance": [],
      "authorship_tag": "ABX9TyMA0kxSi6eWKsv3zTz2yBya",
      "include_colab_link": true
    },
    "kernelspec": {
      "name": "python3",
      "display_name": "Python 3"
    },
    "language_info": {
      "name": "python"
    }
  },
  "cells": [
    {
      "cell_type": "markdown",
      "metadata": {
        "id": "view-in-github",
        "colab_type": "text"
      },
      "source": [
        "<a href=\"https://colab.research.google.com/github/Anna-Tereshchuk/Data-Engineering-Notebooks/blob/main/OOP_with_py.ipynb\" target=\"_parent\"><img src=\"https://colab.research.google.com/assets/colab-badge.svg\" alt=\"Open In Colab\"/></a>"
      ]
    },
    {
      "cell_type": "markdown",
      "source": [
        "**Розуміння класів та об’єктів**\n",
        "\n",
        "\n",
        "\n",
        "> Що таке клас?\n",
        "\n",
        "Клас можна уявити як креслення або шаблон для створення об’єктів з певними атрибутами та поведінкою. Наприклад, якщо розглядати автомобіль як клас, то його атрибутами можуть бути колір, вага, модель, а поведінкою - рух, реверс, застосування гальм.\n",
        "\n",
        "\n",
        "> Що таке об’єкт?\n",
        "\n",
        "Об’єкт є екземпляром класу. Наприклад, автомобіль представляє клас, тоді як конкретний автомобіль, наприклад, BMW або Mercedes, з певним ім’ям, кольором та номером моделі буде об’єктом.\n",
        "\n"
      ],
      "metadata": {
        "id": "HljihfsOu3Md"
      }
    }
  ]
}