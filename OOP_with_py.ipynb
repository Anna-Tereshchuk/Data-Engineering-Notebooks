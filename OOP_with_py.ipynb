{
  "nbformat": 4,
  "nbformat_minor": 0,
  "metadata": {
    "colab": {
      "provenance": [],
      "authorship_tag": "ABX9TyOK6cGHfjYhCQp9A09uh7UW",
      "include_colab_link": true
    },
    "kernelspec": {
      "name": "python3",
      "display_name": "Python 3"
    },
    "language_info": {
      "name": "python"
    }
  },
  "cells": [
    {
      "cell_type": "markdown",
      "metadata": {
        "id": "view-in-github",
        "colab_type": "text"
      },
      "source": [
        "<a href=\"https://colab.research.google.com/github/Anna-Tereshchuk/Data-Engineering-Notebooks/blob/main/OOP_with_py.ipynb\" target=\"_parent\"><img src=\"https://colab.research.google.com/assets/colab-badge.svg\" alt=\"Open In Colab\"/></a>"
      ]
    },
    {
      "cell_type": "markdown",
      "source": [
        "**Розуміння класів та об’єктів**\n",
        "\n",
        "\n",
        "\n",
        "> Що таке клас?\n",
        "\n",
        "Клас можна уявити як креслення або шаблон для створення об’єктів з певними атрибутами та поведінкою. Наприклад, якщо розглядати автомобіль як клас, то його атрибутами можуть бути колір, вага, модель, а поведінкою - рух, реверс, застосування гальм.\n",
        "\n",
        "\n",
        "> Що таке об’єкт?\n",
        "\n",
        "Об’єкт є екземпляром класу. Наприклад, автомобіль представляє клас, тоді як конкретний автомобіль, наприклад, BMW або Mercedes, з певним ім’ям, кольором та номером моделі буде об’єктом.\n",
        "\n"
      ],
      "metadata": {
        "id": "HljihfsOu3Md"
      }
    },
    {
      "cell_type": "markdown",
      "source": [
        "**Приклад класу та об’єкта**\n",
        "\n",
        "\n",
        "> Створення класу\n",
        "\n"
      ],
      "metadata": {
        "id": "KlRlwj7ZxbX8"
      }
    },
    {
      "cell_type": "code",
      "source": [
        "class Car:\n",
        "    def __init__(self, color, weight, model):\n",
        "        self.color = color\n",
        "        self.weight = weight\n",
        "        self.model = model\n",
        "\n",
        "    def run(self):\n",
        "        print(f\"The {self.model} is running.\")\n",
        "\n",
        "    def reverse(self):\n",
        "        print(f\"The {self.model} is reversing.\")\n",
        "\n",
        "    def apply_brakes(self):\n",
        "        print(f\"The {self.model} is applying brakes.\")\n"
      ],
      "metadata": {
        "id": "ijSRkxr3xiGw"
      },
      "execution_count": 1,
      "outputs": []
    },
    {
      "cell_type": "markdown",
      "source": [
        "\n",
        "\n",
        "> Створення об’єкта\n",
        "\n"
      ],
      "metadata": {
        "id": "UkVSLkm3xqNM"
      }
    },
    {
      "cell_type": "code",
      "source": [
        "my_car = Car(\"Red\", 1500, \"BMW\")\n"
      ],
      "metadata": {
        "id": "GGTnejokxuWQ"
      },
      "execution_count": 2,
      "outputs": []
    },
    {
      "cell_type": "markdown",
      "source": [
        "\n",
        "> Виклик методів об’єкта\n",
        "\n"
      ],
      "metadata": {
        "id": "fvTWWkl-xyae"
      }
    },
    {
      "cell_type": "code",
      "source": [
        "my_car.run()\n",
        "my_car.reverse()\n",
        "my_car.apply_brakes()\n"
      ],
      "metadata": {
        "colab": {
          "base_uri": "https://localhost:8080/"
        },
        "id": "dkdi2cl_x4Au",
        "outputId": "e689fefa-494f-4e44-bc60-2779f7b34ee5"
      },
      "execution_count": 3,
      "outputs": [
        {
          "output_type": "stream",
          "name": "stdout",
          "text": [
            "The BMW is running.\n",
            "The BMW is reversing.\n",
            "The BMW is applying brakes.\n"
          ]
        }
      ]
    },
    {
      "cell_type": "markdown",
      "source": [
        "**Переваги використання класів та об’єктів**\n",
        "\n",
        "> Повторне використання\n",
        "\n",
        "\n",
        "*   Класи можна визначити один раз і використовувати багато разів для створення різних об’єктів.\n",
        "\n",
        "\n",
        "> **Інкапсуляція:**\n",
        "\n",
        "\n",
        "*   Класи дозволяють об’єднувати дані та методи, що працюють з цими даними, в одному місці\n",
        "\n",
        "\n",
        "> Абстракція:\n",
        "\n",
        "\n",
        "*   Класи дозволяють приховувати складність та показувати лише необхідні деталі.\n",
        "\n",
        "\n",
        "> Наслідування:\n",
        "\n",
        "\n",
        "*   Класи можуть успадковувати атрибути та методи від інших класів, що дозволяє створювати нові класи на основі існуючих.\n",
        "\n",
        "\n",
        "> Поліморфізм:\n",
        "\n",
        "\n",
        "*   Класи дозволяють використовувати однакові методи для різних об’єктів, що спрощує роботу з ними.\n",
        "\n",
        "Класи та об’єкти є основою об’єктно-орієнтованого програмування (ООП). Вони дозволяють структурувати код, робити його більш організованим та легким для підтримки. Використання ООП принципів допомагає створювати складні програмні системи, такі як банківські додатки, системи управління складами та соціальні медіа платформи.\n",
        "\n",
        "\n",
        "\n",
        "\n",
        "\n",
        "\n",
        "\n",
        "\n",
        "\n",
        "\n"
      ],
      "metadata": {
        "id": "vyyq6PIDyD6r"
      }
    }
  ]
}