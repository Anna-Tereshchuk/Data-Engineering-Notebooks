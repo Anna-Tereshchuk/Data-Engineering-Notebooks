{
  "nbformat": 4,
  "nbformat_minor": 0,
  "metadata": {
    "colab": {
      "provenance": [],
      "authorship_tag": "ABX9TyNaS3Yd1s0/viAjC0qbewqG",
      "include_colab_link": true
    },
    "kernelspec": {
      "name": "python3",
      "display_name": "Python 3"
    },
    "language_info": {
      "name": "python"
    }
  },
  "cells": [
    {
      "cell_type": "markdown",
      "metadata": {
        "id": "view-in-github",
        "colab_type": "text"
      },
      "source": [
        "<a href=\"https://colab.research.google.com/github/Anna-Tereshchuk/Data-Engineering-Notebooks/blob/main/OOP_features.ipynb\" target=\"_parent\"><img src=\"https://colab.research.google.com/assets/colab-badge.svg\" alt=\"Open In Colab\"/></a>"
      ]
    },
    {
      "cell_type": "markdown",
      "source": [
        "**Розуміння класів та об’єктів**\n",
        "\n",
        "\n",
        "\n",
        "> Що таке клас?\n",
        "\n",
        "Клас можна уявити як креслення або шаблон для створення об’єктів з певними атрибутами та поведінкою. Наприклад, якщо розглядати автомобіль як клас, то його атрибутами можуть бути колір, вага, модель, а поведінкою - рух, реверс, застосування гальм.\n",
        "\n",
        "\n",
        "> Що таке об’єкт?\n",
        "\n",
        "Об’єкт є екземпляром класу. Наприклад, автомобіль представляє клас, тоді як конкретний автомобіль, наприклад, BMW або Mercedes, з певним ім’ям, кольором та номером моделі буде об’єктом.\n",
        "\n"
      ],
      "metadata": {
        "id": "HljihfsOu3Md"
      }
    },
    {
      "cell_type": "markdown",
      "source": [
        "**Основні особливості ООП**\n",
        "\n",
        "\n",
        "> Абстракція\n",
        "\n",
        "Абстракція дозволяє приховувати складні деталі реалізації та показувати лише необхідні аспекти. Наприклад, коли ви використовуєте телевізор, ви натискаєте кнопки на пульті, не знаючи, як працюють внутрішні схеми телевізора. В ООП абстракція реалізується через класи, які мають методи для виконання певних завдань. Користувачі класу не повинні знати, як ці завдання виконуються, вони лише використовують методи.\n",
        "\n",
        "\n",
        "\n",
        "> Наслідування\n",
        "\n",
        "Наслідування дозволяє одному класу успадковувати властивості та методи іншого класу. Клас, який успадковує властивості, називається похідним класом або дочірнім класом, а клас, від якого успадковуються властивості, називається базовим класом або батьківським класом. Це дозволяє класам ділитися своїми властивостями та поведінкою, роблячи код більш потужним та ефективним.\n",
        "\n",
        "\n",
        "\n",
        "> Поліморфізм\n",
        "\n",
        "Поліморфізм дозволяє виконувати одну задачу різними способами. Наприклад, можна мати кілька функцій з однаковою назвою в одному класі. Це робить код дуже гнучким, оскільки можна використовувати один і той самий метод для різних типів об’єктів, і він буде працювати. Поліморфізм дозволяє методам адаптуватися до різних ситуацій.\n",
        "\n",
        "\n",
        "\n",
        "\n",
        "\n",
        "\n"
      ],
      "metadata": {
        "id": "Ykb21Q3LvMwQ"
      }
    },
    {
      "cell_type": "markdown",
      "source": [
        "\n",
        "\n",
        "> **Абстракція**\n"
      ],
      "metadata": {
        "id": "b7ZfmeVAv1Nw"
      }
    },
    {
      "cell_type": "code",
      "source": [
        "from abc import ABC, abstractmethod\n",
        "\n",
        "class Vehicle(ABC):\n",
        "    @abstractmethod\n",
        "    def start(self):\n",
        "        pass\n",
        "\n",
        "class Car(Vehicle):\n",
        "    def start(self):\n",
        "        print(\"Car is starting\")\n",
        "\n",
        "my_car = Car()\n",
        "my_car.start()\n"
      ],
      "metadata": {
        "colab": {
          "base_uri": "https://localhost:8080/"
        },
        "id": "mJ5cnoWdv6zM",
        "outputId": "c05f5a57-a348-4845-e333-f2a106868966"
      },
      "execution_count": 5,
      "outputs": [
        {
          "output_type": "stream",
          "name": "stdout",
          "text": [
            "Car is starting\n"
          ]
        }
      ]
    },
    {
      "cell_type": "markdown",
      "source": [
        "\n",
        "\n",
        "> **Наслідування:**\n",
        "\n"
      ],
      "metadata": {
        "id": "gjNtXI5-wDZ_"
      }
    },
    {
      "cell_type": "code",
      "source": [
        "class Animal:\n",
        "    def __init__(self, name):\n",
        "        self.name = name\n",
        "\n",
        "    def speak(self):\n",
        "        pass\n",
        "\n",
        "class Dog(Animal):\n",
        "    def speak(self):\n",
        "        return f\"{self.name} says Woof!\"\n",
        "\n",
        "class Cat(Animal):\n",
        "    def speak(self):\n",
        "        return f\"{self.name} says Meow!\"\n",
        "\n",
        "dog = Dog(\"Buddy\")\n",
        "cat = Cat(\"Whiskers\")\n",
        "print(dog.speak())\n",
        "print(cat.speak())\n"
      ],
      "metadata": {
        "colab": {
          "base_uri": "https://localhost:8080/"
        },
        "id": "3YHhSBIGwKgQ",
        "outputId": "3a4ff000-9a51-4888-a461-345e8404f8c3"
      },
      "execution_count": 6,
      "outputs": [
        {
          "output_type": "stream",
          "name": "stdout",
          "text": [
            "Buddy says Woof!\n",
            "Whiskers says Meow!\n"
          ]
        }
      ]
    },
    {
      "cell_type": "markdown",
      "source": [
        "\n",
        "\n",
        "> **Поліморфізм:**\n",
        "\n"
      ],
      "metadata": {
        "id": "U9KZYJMbwUX4"
      }
    },
    {
      "cell_type": "code",
      "source": [
        "class Shape:\n",
        "    def area(self):\n",
        "        pass\n",
        "\n",
        "class Rectangle(Shape):\n",
        "    def __init__(self, width, height):\n",
        "        self.width = width\n",
        "        self.height = height\n",
        "\n",
        "    def area(self):\n",
        "        return self.width * self.height\n",
        "\n",
        "class Circle(Shape):\n",
        "    def __init__(self, radius):\n",
        "        self.radius = radius\n",
        "\n",
        "    def area(self):\n",
        "        return 3.14 * self.radius * self.radius\n",
        "\n",
        "shapes = [Rectangle(2, 3), Circle(5)]\n",
        "for shape in shapes:\n",
        "    print(shape.area())\n"
      ],
      "metadata": {
        "colab": {
          "base_uri": "https://localhost:8080/"
        },
        "id": "AC4DzhVXwZVr",
        "outputId": "20300ed7-bd9b-4135-c078-64ffa45e7f59"
      },
      "execution_count": 7,
      "outputs": [
        {
          "output_type": "stream",
          "name": "stdout",
          "text": [
            "6\n",
            "78.5\n"
          ]
        }
      ]
    },
    {
      "cell_type": "markdown",
      "source": [
        "ООП надає потужні інструменти для створення масштабованого, повторно використовуваного та ефективного коду. Абстракція, наслідування та поліморфізм є ключовими концепціями, які допомагають організувати та спростити розробку складних програмних систем"
      ],
      "metadata": {
        "id": "zai9A8lIwiWT"
      }
    }
  ]
}