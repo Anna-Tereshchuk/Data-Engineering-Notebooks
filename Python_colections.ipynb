{
  "nbformat": 4,
  "nbformat_minor": 0,
  "metadata": {
    "colab": {
      "provenance": [],
      "authorship_tag": "ABX9TyOCc456E++HM2HayHawLY9h",
      "include_colab_link": true
    },
    "kernelspec": {
      "name": "python3",
      "display_name": "Python 3"
    },
    "language_info": {
      "name": "python"
    }
  },
  "cells": [
    {
      "cell_type": "markdown",
      "metadata": {
        "id": "view-in-github",
        "colab_type": "text"
      },
      "source": [
        "<a href=\"https://colab.research.google.com/github/Anna-Tereshchuk/Data-Engineering-Notebooks/blob/main/Python_colections.ipynb\" target=\"_parent\"><img src=\"https://colab.research.google.com/assets/colab-badge.svg\" alt=\"Open In Colab\"/></a>"
      ]
    },
    {
      "cell_type": "markdown",
      "source": [
        "\n",
        "\n",
        "*   **Списки (Lists):** Динамічні масиви, які можуть змінювати свій розмір. Вони схожі на гнучкі контейнери, куди можна додавати або видаляти елементи.\n",
        "*   **Кортежі (Tuples):** Незмінні послідовності, які часто\n",
        "використовуються для представлення записів або структур. Вони схожі на фіксований набір даних, який не змінюється.\n",
        "*   **Множини (Sets):** Неупорядковані колекції унікальних елементів. Вони схожі на мішок, куди можна кидати елементи, і навіть якщо кинути дублікати, мішок залишить лише один з кожного.\n",
        "*   **Словники (Dictionaries):** Пари ключ-значення, ідеальні для структурованих даних. Вони схожі на велику бібліотеку, де кожну книгу  (значення) можна швидко знайти за її унікальним заголовком (ключем).\n",
        "\n",
        "\n",
        "\n"
      ],
      "metadata": {
        "id": "RoZsAQ-BxDFv"
      }
    },
    {
      "cell_type": "markdown",
      "source": [
        "**Tuples**\n",
        "\n",
        "**Кортеж**і - це **впорядковані** та **незмінні** колекції. Після створення кортежу його не можна змінити.\n",
        "*   **Доступ за індексом:** Ви можете отримати доступ до елементів кортежу за допомогою індексів. Індекси починаються з нуля.\n",
        "*   **Приклад:** Створення кортежу для представлення рядка в таблиці співробітників:\n",
        "```\n",
        "employee = (123, \"John Doe\", \"New York\", \"555-1234\")\n",
        "print(employee)\n",
        "```\n",
        "\n",
        "\n",
        "*  **Гетерогенні елементи:** Кортежі можуть містити елементи різних типів, наприклад, цілі числа, рядки тощо.\n",
        "*   **Доступ до елементів:** Ви можете отримати доступ до елементів за індексом:\n",
        "\n",
        "```\n",
        "print(employee[1])  # Виведе \"John Doe\"\n",
        "\n",
        "```\n",
        "\n",
        "\n",
        "\n",
        "*   Останній елемент: Ви можете отримати доступ до останнього елемента за допомогою індексу -1:\n",
        "\n",
        "\n",
        "```\n",
        "print(employee[-1])  # Виведе \"555-1234\"\n",
        "\n",
        "```\n",
        "\n",
        "\n",
        "*   **Незмінність:** Кортежі не можна змінювати після створення. Якщо потрібно змінити кортеж, його можна перетворити на список, внести зміни, а потім знову перетворити на кортеж:\n",
        "\n",
        "\n",
        "```\n",
        "new_emp = list(employee)\n",
        "new_emp[1] = \"Jane Doe\"\n",
        "employee = tuple(new_emp)\n",
        "print(employee)\n",
        "\n",
        "```\n",
        "\n",
        "\n",
        "\n",
        "*   **Ітерація:** Ви можете ітеруватися по елементах кортежу за допомогою циклу for:\n",
        "\n",
        "\n",
        "```\n",
        "for x in employee:\n",
        "    print(x)\n",
        "\n",
        "```\n",
        "\n",
        "\n",
        "\n",
        "*   **Пошук індексу:** Ви можете знайти індекс певного елемента за допомогою методу index:\n",
        "\n",
        "\n",
        "```\n",
        "print(employee.index(\"New York\"))  # Виведе 2\n",
        "\n",
        "```\n",
        "\n",
        "\n",
        "\n",
        "\n",
        "\n",
        "\n",
        "\n",
        "\n",
        "\n",
        "\n",
        "\n",
        "\n",
        "\n",
        "\n",
        "\n",
        "\n"
      ],
      "metadata": {
        "id": "2-k8yTGezMbN"
      }
    },
    {
      "cell_type": "markdown",
      "source": [
        "Цей код створює кортеж employee, виводить його елементи, ітерує по елементах, а потім змінює ім’я співробітника через перетворення кортежу на список і назад.\n"
      ],
      "metadata": {
        "id": "MgytW7oL1f5e"
      }
    },
    {
      "cell_type": "code",
      "source": [
        "# Створення кортежу\n",
        "employee = (123, \"John Doe\", \"New York\", \"555-1234\")\n",
        "\n",
        "# Доступ до елементів за індексом\n",
        "print(\"Employee ID:\", employee[0])\n",
        "print(\"Name:\", employee[1])\n",
        "print(\"City:\", employee[2])\n",
        "print(\"Phone:\", employee[3])\n",
        "\n",
        "# Ітерація по елементах кортежу\n",
        "print(\"\\nIterating through tuple:\")\n",
        "for item in employee:\n",
        "    print(item)\n",
        "\n",
        "# Зміна кортежу через перетворення на список\n",
        "new_emp = list(employee)\n",
        "new_emp[1] = \"Jane Doe\"  # Зміна імені\n",
        "employee = tuple(new_emp)\n",
        "\n",
        "print(\"\\nUpdated tuple:\")\n",
        "print(employee)\n"
      ],
      "metadata": {
        "colab": {
          "base_uri": "https://localhost:8080/"
        },
        "id": "mMMH2jON1pCf",
        "outputId": "4d1c0ec4-f501-4ca7-d845-c40a25487f41"
      },
      "execution_count": 1,
      "outputs": [
        {
          "output_type": "stream",
          "name": "stdout",
          "text": [
            "Employee ID: 123\n",
            "Name: John Doe\n",
            "City: New York\n",
            "Phone: 555-1234\n",
            "\n",
            "Iterating through tuple:\n",
            "123\n",
            "John Doe\n",
            "New York\n",
            "555-1234\n",
            "\n",
            "Updated tuple:\n",
            "(123, 'Jane Doe', 'New York', '555-1234')\n"
          ]
        }
      ]
    },
    {
      "cell_type": "markdown",
      "source": [],
      "metadata": {
        "id": "UFW1gL2v2Aoi"
      }
    }
  ]
}