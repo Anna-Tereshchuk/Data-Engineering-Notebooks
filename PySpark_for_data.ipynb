{
  "nbformat": 4,
  "nbformat_minor": 0,
  "metadata": {
    "colab": {
      "provenance": [],
      "authorship_tag": "ABX9TyNDupW+roacnaaTDdPyRCtZ",
      "include_colab_link": true
    },
    "kernelspec": {
      "name": "python3",
      "display_name": "Python 3"
    },
    "language_info": {
      "name": "python"
    }
  },
  "cells": [
    {
      "cell_type": "markdown",
      "metadata": {
        "id": "view-in-github",
        "colab_type": "text"
      },
      "source": [
        "<a href=\"https://colab.research.google.com/github/Anna-Tereshchuk/Data-Engineering-Notebooks/blob/main/PySpark_for_data.ipynb\" target=\"_parent\"><img src=\"https://colab.research.google.com/assets/colab-badge.svg\" alt=\"Open In Colab\"/></a>"
      ]
    },
    {
      "cell_type": "code",
      "execution_count": 9,
      "metadata": {
        "colab": {
          "base_uri": "https://localhost:8080/"
        },
        "id": "cZ4WssD8RCrK",
        "outputId": "6ec75ee8-da0e-4523-afc0-6c2681ae449d"
      },
      "outputs": [
        {
          "output_type": "stream",
          "name": "stdout",
          "text": [
            "    Index  Organization Id                       Name  \\\n",
            "0       1  FAB0d41d5b5d22c                Ferrell LLC   \n",
            "1       2  6A7EdDEA9FaDC52    Mckinney, Riley and Day   \n",
            "2       3  0bFED1ADAE4bcC1                 Hester Ltd   \n",
            "3       4  2bFC1Be8a4ce42f             Holder-Sellers   \n",
            "4       5  9eE8A6a4Eb96C24                Mayer Group   \n",
            "5       6  cC757116fe1C085             Henry-Thompson   \n",
            "6       7  219233e8aFF1BC3             Hansen-Everett   \n",
            "7       8  ccc93DCF81a31CD              Mcintosh-Mora   \n",
            "8       9  0B4F93aA06ED03e                   Carr Inc   \n",
            "9      10  738b5aDe6B1C6A5                 Gaines Inc   \n",
            "10     11  AE61b8Ffebbc476                 Kidd Group   \n",
            "11     12  eb3B7D06cCdD609               Crane-Clarke   \n",
            "12     13  8D0c29189C9798B   Keller, Campos and Black   \n",
            "13     14  D2c91cc03CA394c                Glover-Pope   \n",
            "14     15  C8AC1eaf9C036F4             Pacheco-Spears   \n",
            "15     16  b5D10A14f7a8AfE                Hodge-Ayers   \n",
            "16     17  68139b5C4De03B4  Bowers, Guerra and Krause   \n",
            "17     18  5c2EffEfdba2BdF            Mckenzie-Melton   \n",
            "18     19  ba179F19F7925f5                Branch-Mann   \n",
            "19     20  c1Ce9B350BAc66b             Weiss and Sons   \n",
            "\n",
            "                               Website                            Country  \\\n",
            "0                   https://price.net/                   Papua New Guinea   \n",
            "1       http://www.hall-buchanan.info/                            Finland   \n",
            "2            http://sullivan-reed.com/                              China   \n",
            "3                  https://becker.com/                       Turkmenistan   \n",
            "4               http://www.brewer.com/                          Mauritius   \n",
            "5                    http://morse.net/                            Bahamas   \n",
            "6                https://www.kidd.org/                           Pakistan   \n",
            "7              https://www.brooks.com/  Heard Island and McDonald Islands   \n",
            "8                     http://ross.com/                             Kuwait   \n",
            "9          http://sandoval-hooper.com/                         Uzbekistan   \n",
            "10               http://www.lyons.com/          Bouvet Island (Bouvetoya)   \n",
            "11           https://www.sandoval.com/                            Denmark   \n",
            "12            https://www.garner.info/                            Liberia   \n",
            "13               http://www.silva.biz/               United Arab Emirates   \n",
            "14                https://aguilar.com/                             Sweden   \n",
            "15      http://www.archer-elliott.com/                           Honduras   \n",
            "16  http://www.carrillo-nicholson.com/                             Uganda   \n",
            "17        http://montoya-thompson.com/                          Hong Kong   \n",
            "18              http://www.lozano.com/                           Botswana   \n",
            "19                https://barrett.com/                              Korea   \n",
            "\n",
            "                                       Description  Founded  \\\n",
            "0              Horizontal empowering knowledgebase     1990   \n",
            "1              User-centric system-worthy leverage     2015   \n",
            "2                   Switchable scalable moratorium     1971   \n",
            "3   De-engineered systemic artificial intelligence     2004   \n",
            "4               Synchronized needs-based challenge     1991   \n",
            "5     Face-to-face well-modulated customer loyalty     1992   \n",
            "6           Seamless disintermediate collaboration     2018   \n",
            "7         Centralized attitude-oriented capability     1970   \n",
            "8           Distributed impactful customer loyalty     1996   \n",
            "9                  Multi-lateral scalable protocol     1997   \n",
            "10                   Proactive foreground paradigm     2001   \n",
            "11            Front-line clear-thinking encryption     2014   \n",
            "12               Ameliorated directional emulation     2020   \n",
            "13         Persevering contextually-based approach     2013   \n",
            "14                      Secured logistical synergy     1984   \n",
            "15           Future-proofed radical implementation     1990   \n",
            "16             De-engineered transitional strategy     1972   \n",
            "17           Reverse-engineered heuristic alliance     1998   \n",
            "18                       Adaptive intangible frame     1999   \n",
            "19                Sharable optimal functionalities     2011   \n",
            "\n",
            "                                             Industry  Number of employees  \n",
            "0                                            Plastics                 3498  \n",
            "1                         Glass / Ceramics / Concrete                 4952  \n",
            "2                                       Public Safety                 5287  \n",
            "3                                          Automotive                  921  \n",
            "4                                      Transportation                 7870  \n",
            "5                       Primary / Secondary Education                 4914  \n",
            "6                                 Publishing Industry                 7832  \n",
            "7                                     Import / Export                 4389  \n",
            "8                                            Plastics                 8167  \n",
            "9                            Outsourcing / Offshoring                 9698  \n",
            "10                      Primary / Secondary Education                 7473  \n",
            "11                                   Food / Beverages                 9011  \n",
            "12                             Museums / Institutions                 2862  \n",
            "13                                   Medical Practice                 9079  \n",
            "14                                           Maritime                  769  \n",
            "15                                Facilities Services                 8508  \n",
            "16                      Primary / Secondary Education                 6986  \n",
            "17  Investment Management / Hedge Fund / Private E...                 4589  \n",
            "18                            Architecture / Planning                 7961  \n",
            "19                                           Plastics                 5984  \n"
          ]
        }
      ],
      "source": [
        "import pandas as pd\n",
        "\n",
        "# Завантаження CSV файлу за допомогою Pandas\n",
        "file_path = '/content/organizations-100.csv'\n",
        "df = pd.read_csv(file_path)\n",
        "\n",
        "print(df.head(20))\n",
        "\n"
      ]
    },
    {
      "cell_type": "code",
      "source": [
        "from pyspark.sql import SparkSession\n",
        "\n",
        "# Створення SparkSession\n",
        "spark = SparkSession.builder.appName(\"OrganizationsData\").getOrCreate()\n",
        "\n",
        "# Завантаження даних з CSV файлу за допомогою PySpark\n",
        "df_spark = spark.read.csv(file_path, header=True, inferSchema=True)\n",
        "\n",
        "# Відображення схеми даних\n",
        "df_spark.printSchema()\n",
        "\n",
        "# Відображення перших 20 рядків\n",
        "df_spark.show(20)\n",
        "\n",
        "# Приклад трансформації: Фільтрація компаній, заснованих після 2000 року\n",
        "filtered_df = df_spark.filter(df_spark[\"Founded\"] > 2000)\n",
        "\n",
        "# Відображення результатів фільтрації\n",
        "filtered_df.show()\n"
      ],
      "metadata": {
        "colab": {
          "base_uri": "https://localhost:8080/"
        },
        "id": "UjhMSolpSRwJ",
        "outputId": "a826edcb-6848-4083-c827-dd50ab4702cb"
      },
      "execution_count": 3,
      "outputs": [
        {
          "output_type": "stream",
          "name": "stdout",
          "text": [
            "root\n",
            " |-- Index: integer (nullable = true)\n",
            " |-- Organization Id: string (nullable = true)\n",
            " |-- Name: string (nullable = true)\n",
            " |-- Website: string (nullable = true)\n",
            " |-- Country: string (nullable = true)\n",
            " |-- Description: string (nullable = true)\n",
            " |-- Founded: integer (nullable = true)\n",
            " |-- Industry: string (nullable = true)\n",
            " |-- Number of employees: integer (nullable = true)\n",
            "\n",
            "+-----+---------------+--------------------+--------------------+--------------------+--------------------+-------+--------------------+-------------------+\n",
            "|Index|Organization Id|                Name|             Website|             Country|         Description|Founded|            Industry|Number of employees|\n",
            "+-----+---------------+--------------------+--------------------+--------------------+--------------------+-------+--------------------+-------------------+\n",
            "|    1|FAB0d41d5b5d22c|         Ferrell LLC|  https://price.net/|    Papua New Guinea|Horizontal empowe...|   1990|            Plastics|               3498|\n",
            "|    2|6A7EdDEA9FaDC52|Mckinney, Riley a...|http://www.hall-b...|             Finland|User-centric syst...|   2015|Glass / Ceramics ...|               4952|\n",
            "|    3|0bFED1ADAE4bcC1|          Hester Ltd|http://sullivan-r...|               China|Switchable scalab...|   1971|       Public Safety|               5287|\n",
            "|    4|2bFC1Be8a4ce42f|      Holder-Sellers| https://becker.com/|        Turkmenistan|De-engineered sys...|   2004|          Automotive|                921|\n",
            "|    5|9eE8A6a4Eb96C24|         Mayer Group|http://www.brewer...|           Mauritius|Synchronized need...|   1991|      Transportation|               7870|\n",
            "|    6|cC757116fe1C085|      Henry-Thompson|   http://morse.net/|             Bahamas|Face-to-face well...|   1992|Primary / Seconda...|               4914|\n",
            "|    7|219233e8aFF1BC3|      Hansen-Everett|https://www.kidd....|            Pakistan|Seamless disinter...|   2018| Publishing Industry|               7832|\n",
            "|    8|ccc93DCF81a31CD|       Mcintosh-Mora|https://www.brook...|Heard Island and ...|Centralized attit...|   1970|     Import / Export|               4389|\n",
            "|    9|0B4F93aA06ED03e|            Carr Inc|    http://ross.com/|              Kuwait|Distributed impac...|   1996|            Plastics|               8167|\n",
            "|   10|738b5aDe6B1C6A5|          Gaines Inc|http://sandoval-h...|          Uzbekistan|Multi-lateral sca...|   1997|Outsourcing / Off...|               9698|\n",
            "|   11|AE61b8Ffebbc476|          Kidd Group|http://www.lyons....|Bouvet Island (Bo...|Proactive foregro...|   2001|Primary / Seconda...|               7473|\n",
            "|   12|eb3B7D06cCdD609|        Crane-Clarke|https://www.sando...|             Denmark|Front-line clear-...|   2014|    Food / Beverages|               9011|\n",
            "|   13|8D0c29189C9798B|Keller, Campos an...|https://www.garne...|             Liberia|Ameliorated direc...|   2020|Museums / Institu...|               2862|\n",
            "|   14|D2c91cc03CA394c|         Glover-Pope|http://www.silva....|United Arab Emirates|Persevering conte...|   2013|    Medical Practice|               9079|\n",
            "|   15|C8AC1eaf9C036F4|      Pacheco-Spears|https://aguilar.com/|              Sweden|Secured logistica...|   1984|            Maritime|                769|\n",
            "|   16|b5D10A14f7a8AfE|         Hodge-Ayers|http://www.archer...|            Honduras|Future-proofed ra...|   1990| Facilities Services|               8508|\n",
            "|   17|68139b5C4De03B4|Bowers, Guerra an...|http://www.carril...|              Uganda|De-engineered tra...|   1972|Primary / Seconda...|               6986|\n",
            "|   18|5c2EffEfdba2BdF|     Mckenzie-Melton|http://montoya-th...|           Hong Kong|Reverse-engineere...|   1998|Investment Manage...|               4589|\n",
            "|   19|ba179F19F7925f5|         Branch-Mann|http://www.lozano...|            Botswana|Adaptive intangib...|   1999|Architecture / Pl...|               7961|\n",
            "|   20|c1Ce9B350BAc66b|      Weiss and Sons|https://barrett.com/|               Korea|Sharable optimal ...|   2011|            Plastics|               5984|\n",
            "+-----+---------------+--------------------+--------------------+--------------------+--------------------+-------+--------------------+-------------------+\n",
            "only showing top 20 rows\n",
            "\n",
            "+-----+---------------+--------------------+--------------------+--------------------+--------------------+-------+--------------------+-------------------+\n",
            "|Index|Organization Id|                Name|             Website|             Country|         Description|Founded|            Industry|Number of employees|\n",
            "+-----+---------------+--------------------+--------------------+--------------------+--------------------+-------+--------------------+-------------------+\n",
            "|    2|6A7EdDEA9FaDC52|Mckinney, Riley a...|http://www.hall-b...|             Finland|User-centric syst...|   2015|Glass / Ceramics ...|               4952|\n",
            "|    4|2bFC1Be8a4ce42f|      Holder-Sellers| https://becker.com/|        Turkmenistan|De-engineered sys...|   2004|          Automotive|                921|\n",
            "|    7|219233e8aFF1BC3|      Hansen-Everett|https://www.kidd....|            Pakistan|Seamless disinter...|   2018| Publishing Industry|               7832|\n",
            "|   11|AE61b8Ffebbc476|          Kidd Group|http://www.lyons....|Bouvet Island (Bo...|Proactive foregro...|   2001|Primary / Seconda...|               7473|\n",
            "|   12|eb3B7D06cCdD609|        Crane-Clarke|https://www.sando...|             Denmark|Front-line clear-...|   2014|    Food / Beverages|               9011|\n",
            "|   13|8D0c29189C9798B|Keller, Campos an...|https://www.garne...|             Liberia|Ameliorated direc...|   2020|Museums / Institu...|               2862|\n",
            "|   14|D2c91cc03CA394c|         Glover-Pope|http://www.silva....|United Arab Emirates|Persevering conte...|   2013|    Medical Practice|               9079|\n",
            "|   20|c1Ce9B350BAc66b|      Weiss and Sons|https://barrett.com/|               Korea|Sharable optimal ...|   2011|            Plastics|               5984|\n",
            "|   22|Aad86a4F0385F2d|         Harrell LLC|http://www.frey-r...|          Guadeloupe|Reverse-engineere...|   2018|        Construction|               2185|\n",
            "|   23|22aC3FFd64fD703|Eaton, Reynolds a...|http://www.freema...|              Monaco|Self-enabling mul...|   2014|Luxury Goods / Je...|               8987|\n",
            "|   25|5fDBeA8BB91a000|         Jenkins Inc|http://www.kirk.biz/|        South Africa|Front-line system...|   2002|           Insurance|               1215|\n",
            "|   26|dFfD6a6F9AC2d9C|Greene, Benjamin ...|http://www.kent.net/|             Romania|Centralized leadi...|   2012|Museums / Institu...|               4941|\n",
            "|   29|f9F7bBCAEeC360F|           Ayala LLC|http://www.zhang....|         Philippines|Open-source zero ...|   2021|      Legal Services|               7664|\n",
            "|   35|9E6Acb51e3F9d6F|Glass, Barrera an...| https://dunlap.com/|     Kyrgyz Republic|Multi-channeled 3...|   2020|           Utilities|               2610|\n",
            "|   36|4D4d7E18321eaeC|          Pineda-Cox| http://aguilar.org/|             Bolivia|Fundamental async...|   2010|Human Resources / HR|               1312|\n",
            "|   37|485f5d06B938F2b|Baker, Mccann and...|http://www.anders...|               Kenya|Cross-group user-...|   2013|  Legislative Office|               1638|\n",
            "|   39|6883A965c7b68F7|            Hahn PLC|  http://newman.com/|             Belarus|Organic logistica...|   2012|Electrical / Elec...|               3715|\n",
            "|   41|decab0D5027CA6a|          Arroyo Inc|https://www.turne...|             Grenada|Managed demand-dr...|   2006|   Writing / Editing|               9067|\n",
            "|   43|A2D89Ab9bCcAd4e|Mitchell, Warren ...|    https://fox.biz/| Trinidad and Tobago|Enhanced intangib...|   2021|Capital Markets /...|               3816|\n",
            "|   44|77aDc905434a49f|          Prince PLC|https://www.watts...|              Sweden|Profit-focused co...|   2016|Individual / Fami...|               7645|\n",
            "+-----+---------------+--------------------+--------------------+--------------------+--------------------+-------+--------------------+-------------------+\n",
            "only showing top 20 rows\n",
            "\n"
          ]
        }
      ]
    },
    {
      "cell_type": "markdown",
      "source": [
        "Агрегація даних:\n",
        "\n",
        "Виконання операцій, таких як підрахунок, середнє значення, мінімум, максимум."
      ],
      "metadata": {
        "id": "-Csz__3yTn0O"
      }
    },
    {
      "cell_type": "code",
      "source": [
        "df_spark.groupBy(\"Industry\").count().show()\n",
        "df_spark.groupBy(\"Industry\").agg({\"Number of employees\": \"avg\"}).show()\n"
      ],
      "metadata": {
        "colab": {
          "base_uri": "https://localhost:8080/"
        },
        "id": "0xqFvnBlSvyn",
        "outputId": "0278d3f4-ca83-4ebf-87ce-b8ca332967e4"
      },
      "execution_count": 4,
      "outputs": [
        {
          "output_type": "stream",
          "name": "stdout",
          "text": [
            "+--------------------+-----+\n",
            "|            Industry|count|\n",
            "+--------------------+-----+\n",
            "|Primary / Seconda...|    3|\n",
            "|     Broadcast Media|    2|\n",
            "|           Wholesale|    1|\n",
            "|Investment Manage...|    2|\n",
            "|    Food / Beverages|    1|\n",
            "|  Gambling / Casinos|    1|\n",
            "|Logistics / Procu...|    1|\n",
            "|            Maritime|    1|\n",
            "|            Wireless|    1|\n",
            "|Education Management|    1|\n",
            "|       Arts / Crafts|    2|\n",
            "|           Insurance|    1|\n",
            "|  Financial Services|    2|\n",
            "|Business Supplies...|    1|\n",
            "|Consumer Electronics|    2|\n",
            "|       Public Safety|    1|\n",
            "|Information Techn...|    1|\n",
            "|Civic / Social Or...|    2|\n",
            "|      Consumer Goods|    1|\n",
            "|Glass / Ceramics ...|    1|\n",
            "+--------------------+-----+\n",
            "only showing top 20 rows\n",
            "\n",
            "+--------------------+------------------------+\n",
            "|            Industry|avg(Number of employees)|\n",
            "+--------------------+------------------------+\n",
            "|Primary / Seconda...|       6457.666666666667|\n",
            "|     Broadcast Media|                  2589.0|\n",
            "|           Wholesale|                  5010.0|\n",
            "|Investment Manage...|                  3133.5|\n",
            "|    Food / Beverages|                  9011.0|\n",
            "|  Gambling / Casinos|                  4873.0|\n",
            "|Logistics / Procu...|                  4155.0|\n",
            "|            Maritime|                   769.0|\n",
            "|            Wireless|                  6146.0|\n",
            "|Education Management|                   339.0|\n",
            "|       Arts / Crafts|                  2800.0|\n",
            "|           Insurance|                  1215.0|\n",
            "|  Financial Services|                  5157.0|\n",
            "|Business Supplies...|                  9097.0|\n",
            "|Consumer Electronics|                  5022.0|\n",
            "|       Public Safety|                  5287.0|\n",
            "|Information Techn...|                  3934.0|\n",
            "|Civic / Social Or...|                  2442.0|\n",
            "|      Consumer Goods|                  9069.0|\n",
            "|Glass / Ceramics ...|                  4952.0|\n",
            "+--------------------+------------------------+\n",
            "only showing top 20 rows\n",
            "\n"
          ]
        }
      ]
    }
  ]
}