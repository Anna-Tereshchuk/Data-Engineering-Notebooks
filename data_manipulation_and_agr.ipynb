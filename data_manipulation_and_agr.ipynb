{
  "nbformat": 4,
  "nbformat_minor": 0,
  "metadata": {
    "colab": {
      "provenance": [],
      "authorship_tag": "ABX9TyP34WEFP2aqg84TOBJiajqi",
      "include_colab_link": true
    },
    "kernelspec": {
      "name": "python3",
      "display_name": "Python 3"
    },
    "language_info": {
      "name": "python"
    }
  },
  "cells": [
    {
      "cell_type": "markdown",
      "metadata": {
        "id": "view-in-github",
        "colab_type": "text"
      },
      "source": [
        "<a href=\"https://colab.research.google.com/github/Anna-Tereshchuk/Data-Engineering-Notebooks/blob/main/data_manipulation_and_agr.ipynb\" target=\"_parent\"><img src=\"https://colab.research.google.com/assets/colab-badge.svg\" alt=\"Open In Colab\"/></a>"
      ]
    },
    {
      "cell_type": "markdown",
      "source": [
        "**DataFrame**  у pandas - це двовимірна структура даних, схожа на двовимірний масив або таблицю з рядками та стовпцями."
      ],
      "metadata": {
        "id": "moucfDm7om3N"
      }
    },
    {
      "cell_type": "code",
      "source": [
        "import pandas as pd\n",
        "\n",
        "df = pd.read_csv('/Bike Sharing.csv', encoding='latin1')\n",
        "print(df)\n",
        "\n",
        "\n"
      ],
      "metadata": {
        "colab": {
          "base_uri": "https://localhost:8080/"
        },
        "id": "VYk4k4GQxigU",
        "outputId": "f79217e6-18d5-47f0-b29a-9129cbff9b7a"
      },
      "execution_count": 2,
      "outputs": [
        {
          "output_type": "stream",
          "name": "stdout",
          "text": [
            "      ID        Date  Season  Year  Month  Holiday  Weekday  Working Day  \\\n",
            "0      1  01-01-2011       1     0      1        0        6            0   \n",
            "1      2  02-01-2011       1     0      1        0        0            0   \n",
            "2      3  03-01-2011       1     0      1        0        1            1   \n",
            "3      4  04-01-2011       1     0      1        0        2            1   \n",
            "4      5  05-01-2011       1     0      1        0        3            1   \n",
            "..   ...         ...     ...   ...    ...      ...      ...          ...   \n",
            "726  727  27-12-2012       1     1     12        0        4            1   \n",
            "727  728  28-12-2012       1     1     12        0        5            1   \n",
            "728  729  29-12-2012       1     1     12        0        6            0   \n",
            "729  730  30-12-2012       1     1     12        0        0            0   \n",
            "730  731  31-12-2012       1     1     12        0        1            1   \n",
            "\n",
            "     Weather      Temp     Temp©  Humidity  Windspeed  Casual Rider  \\\n",
            "0          2  0.344167  0.363625  0.805833   0.160446           331   \n",
            "1          2  0.363478  0.353739  0.696087   0.248539           131   \n",
            "2          1  0.196364  0.189405  0.437273   0.248309           120   \n",
            "3          1  0.200000  0.212122  0.590435   0.160296           108   \n",
            "4          1  0.226957  0.229270  0.436957   0.186900            82   \n",
            "..       ...       ...       ...       ...        ...           ...   \n",
            "726        2  0.254167  0.226642  0.652917   0.350133           247   \n",
            "727        2  0.253333  0.255046  0.590000   0.155471           644   \n",
            "728        2  0.253333  0.242400  0.752917   0.124383           159   \n",
            "729        1  0.255833  0.231700  0.483333   0.350754           364   \n",
            "730        2  0.215833  0.223487  0.577500   0.154846           439   \n",
            "\n",
            "     Registered Rider  Total Rider  \n",
            "0                 654          985  \n",
            "1                 670          801  \n",
            "2                1229         1349  \n",
            "3                1454         1562  \n",
            "4                1518         1600  \n",
            "..                ...          ...  \n",
            "726              1867         2114  \n",
            "727              2451         3095  \n",
            "728              1182         1341  \n",
            "729              1432         1796  \n",
            "730              2290         2729  \n",
            "\n",
            "[731 rows x 16 columns]\n"
          ]
        }
      ]
    },
    {
      "cell_type": "code",
      "source": [
        "print(df.head(20).to_string())"
      ],
      "metadata": {
        "colab": {
          "base_uri": "https://localhost:8080/"
        },
        "id": "TMdNAOz92oUB",
        "outputId": "548f8eef-38bc-4aa5-f246-4b8ef2d18e96"
      },
      "execution_count": 41,
      "outputs": [
        {
          "output_type": "stream",
          "name": "stdout",
          "text": [
            "    ID        Date  Season  Year  Month  Holiday  Weekday  Working Day  Weather      Temp     Temp©  Humidity  Windspeed  Casual Rider  Registered Rider  Total Rider\n",
            "0    1  01-01-2011       1   NaN      1      NaN      6.0        777.0        2  0.344167  0.363625  0.805833   0.160446           331               654          985\n",
            "1    2  02-01-2011       1   NaN      1      NaN      NaN        777.0        2  0.363478  0.353739  0.696087   0.248539           131               670          801\n",
            "2    3  03-01-2011       1   NaN      1      NaN      1.0          1.0        1  0.196364  0.189405  0.437273   0.248309           120              1229         1349\n",
            "3    4  04-01-2011       1   NaN      1      NaN      2.0          1.0        1  0.200000  0.212122  0.590435   0.160296           108              1454         1562\n",
            "4    5  05-01-2011       1   NaN      1      NaN      3.0          1.0        1  0.226957  0.229270  0.436957   0.186900            82              1518         1600\n",
            "5    6  06-01-2011       1   NaN      1      NaN      4.0          1.0        1  0.204348  0.233209  0.518261   0.089565            88              1518         1606\n",
            "6    7  07-01-2011       1   NaN      1      NaN      5.0          1.0        2  0.196522  0.208839  0.498696   0.168726           148              1362         1510\n",
            "7    8  08-01-2011       1   NaN      1      NaN      6.0        777.0        2  0.165000  0.162254  0.535833   0.266804            68               891          959\n",
            "8    9  09-01-2011       1   NaN      1      NaN      NaN        777.0        1  0.138333  0.116175  0.434167   0.361950            54               768          822\n",
            "9   10  10-01-2011       1   NaN      1      NaN      1.0          1.0        1  0.150833  0.150888  0.482917   0.223267            41              1280         1321\n",
            "10  11  11-01-2011       1   NaN      1      NaN      2.0          1.0        2  0.169091  0.191464  0.686364   0.122132            43              1220         1263\n",
            "11  12  12-01-2011       1   NaN      1      NaN      3.0          1.0        1  0.172727  0.160473  0.599545   0.304627            25              1137         1162\n",
            "12  13  13-01-2011       1   NaN      1      NaN      4.0          1.0        1  0.165000  0.150883  0.470417   0.301000            38              1368         1406\n",
            "13  14  14-01-2011       1   NaN      1      NaN      5.0          1.0        1  0.160870  0.188413  0.537826   0.126548            54              1367         1421\n",
            "14  15  15-01-2011       1   NaN      1      NaN      6.0        777.0        2  0.233333  0.248112  0.498750   0.157963           222              1026         1248\n",
            "15  16  16-01-2011       1   NaN      1      NaN      NaN        777.0        1  0.231667  0.234217  0.483750   0.188433           251               953         1204\n",
            "16  17  17-01-2011       1   NaN      1      1.0      1.0        777.0        2  0.175833  0.176771  0.537500   0.194017           117               883         1000\n",
            "17  18  18-01-2011       1   NaN      1      NaN      2.0          1.0        2  0.216667  0.232333  0.861667   0.146775             9               674          683\n",
            "18  19  19-01-2011       1   NaN      1      NaN      3.0          1.0        2  0.292174  0.298422  0.741739   0.208317            78              1572         1650\n",
            "19  20  20-01-2011       1   NaN      1      NaN      4.0          1.0        2  0.261667  0.255050  0.538333   0.195904            83              1844         1927\n"
          ]
        }
      ]
    },
    {
      "cell_type": "markdown",
      "source": [
        "**Групування та агрегація**\n",
        "Обчислення середньої температури за сезонами:"
      ],
      "metadata": {
        "id": "igZv7ZLCllq-"
      }
    },
    {
      "cell_type": "code",
      "source": [
        "avg_temp_by_season = df.groupby('Season')['Temp'].mean()\n",
        "print(avg_temp_by_season)\n"
      ],
      "metadata": {
        "id": "VQJg73UdlpPH",
        "outputId": "c0d63c15-738a-40bc-9750-6c131b0bc089",
        "colab": {
          "base_uri": "https://localhost:8080/"
        }
      },
      "execution_count": 3,
      "outputs": [
        {
          "output_type": "stream",
          "name": "stdout",
          "text": [
            "Season\n",
            "1    0.297748\n",
            "2    0.544405\n",
            "3    0.706309\n",
            "4    0.422906\n",
            "Name: Temp, dtype: float64\n"
          ]
        }
      ]
    },
    {
      "cell_type": "markdown",
      "source": [
        "**Обчислення загальної кількості поїздок за місяцями**"
      ],
      "metadata": {
        "id": "rNPVQQ0xlyZR"
      }
    },
    {
      "cell_type": "code",
      "source": [
        "total_rides_by_month = df.groupby('Month')['Total Rider'].sum()\n",
        "print(total_rides_by_month)\n"
      ],
      "metadata": {
        "id": "0p5sxemEl2Ik",
        "outputId": "da6670c5-d763-47c5-be4a-0148376cfe75",
        "colab": {
          "base_uri": "https://localhost:8080/"
        }
      },
      "execution_count": 4,
      "outputs": [
        {
          "output_type": "stream",
          "name": "stdout",
          "text": [
            "Month\n",
            "1     134933\n",
            "2     151352\n",
            "3     228920\n",
            "4     269094\n",
            "5     331686\n",
            "6     346342\n",
            "7     344948\n",
            "8     351194\n",
            "9     345991\n",
            "10    322352\n",
            "11    254831\n",
            "12    211036\n",
            "Name: Total Rider, dtype: int64\n"
          ]
        }
      ]
    },
    {
      "cell_type": "markdown",
      "source": [
        "**Фільтрація даних**\n",
        "\n",
        "\n",
        "Фільтрація даних за робочими днями"
      ],
      "metadata": {
        "id": "SMusxWQimCkB"
      }
    },
    {
      "cell_type": "code",
      "source": [
        "working_days_data = df[df['Working Day'] == 1]\n",
        "print(working_days_data)\n",
        "\n"
      ],
      "metadata": {
        "id": "PwtR1zO4mEwC",
        "outputId": "e5eb3984-7732-4f87-94d4-dddf530f6e73",
        "colab": {
          "base_uri": "https://localhost:8080/"
        }
      },
      "execution_count": 6,
      "outputs": [
        {
          "output_type": "stream",
          "name": "stdout",
          "text": [
            "      ID        Date  Season  Year  Month  Holiday  Weekday  Working Day  \\\n",
            "2      3  03-01-2011       1     0      1        0        1            1   \n",
            "3      4  04-01-2011       1     0      1        0        2            1   \n",
            "4      5  05-01-2011       1     0      1        0        3            1   \n",
            "5      6  06-01-2011       1     0      1        0        4            1   \n",
            "6      7  07-01-2011       1     0      1        0        5            1   \n",
            "..   ...         ...     ...   ...    ...      ...      ...          ...   \n",
            "723  724  24-12-2012       1     1     12        0        1            1   \n",
            "725  726  26-12-2012       1     1     12        0        3            1   \n",
            "726  727  27-12-2012       1     1     12        0        4            1   \n",
            "727  728  28-12-2012       1     1     12        0        5            1   \n",
            "730  731  31-12-2012       1     1     12        0        1            1   \n",
            "\n",
            "     Weather      Temp     Temp©  Humidity  Windspeed  Casual Rider  \\\n",
            "2          1  0.196364  0.189405  0.437273   0.248309           120   \n",
            "3          1  0.200000  0.212122  0.590435   0.160296           108   \n",
            "4          1  0.226957  0.229270  0.436957   0.186900            82   \n",
            "5          1  0.204348  0.233209  0.518261   0.089565            88   \n",
            "6          2  0.196522  0.208839  0.498696   0.168726           148   \n",
            "..       ...       ...       ...       ...        ...           ...   \n",
            "723        2  0.231304  0.258900  0.791304   0.077230           174   \n",
            "725        3  0.243333  0.220333  0.823333   0.316546             9   \n",
            "726        2  0.254167  0.226642  0.652917   0.350133           247   \n",
            "727        2  0.253333  0.255046  0.590000   0.155471           644   \n",
            "730        2  0.215833  0.223487  0.577500   0.154846           439   \n",
            "\n",
            "     Registered Rider  Total Rider  \n",
            "2                1229         1349  \n",
            "3                1454         1562  \n",
            "4                1518         1600  \n",
            "5                1518         1606  \n",
            "6                1362         1510  \n",
            "..                ...          ...  \n",
            "723               746          920  \n",
            "725               432          441  \n",
            "726              1867         2114  \n",
            "727              2451         3095  \n",
            "730              2290         2729  \n",
            "\n",
            "[500 rows x 16 columns]\n"
          ]
        }
      ]
    },
    {
      "cell_type": "markdown",
      "source": [
        "Обчислення середнього, мінімального та максимального значення температури"
      ],
      "metadata": {
        "id": "7y1LSem6mZ9C"
      }
    },
    {
      "cell_type": "code",
      "source": [
        "avg_temp = df['Temp'].mean()\n",
        "min_temp = df['Temp'].min()\n",
        "max_temp = df['Temp'].max()\n",
        "print(f\"Average Temp: {avg_temp}, Min Temp: {min_temp}, Max Temp: {max_temp}\")\n"
      ],
      "metadata": {
        "id": "tt_p8ZrambuC",
        "outputId": "c0cb6ed2-3526-4a58-84a4-a1f46ea7fe05",
        "colab": {
          "base_uri": "https://localhost:8080/"
        }
      },
      "execution_count": 7,
      "outputs": [
        {
          "output_type": "stream",
          "name": "stdout",
          "text": [
            "Average Temp: 0.495384788508892, Min Temp: 0.0591304, Max Temp: 0.861667\n"
          ]
        }
      ]
    },
    {
      "cell_type": "markdown",
      "source": [
        "Обчислення кореляції між температурою та кількістю поїздок"
      ],
      "metadata": {
        "id": "XxW_Z9JRmh24"
      }
    },
    {
      "cell_type": "code",
      "source": [
        "correlation = df['Temp'].corr(df['Total Rider'])\n",
        "print(f\"Correlation between Temp and Total Rider: {correlation}\")\n"
      ],
      "metadata": {
        "id": "2MrxZGKLmjYM",
        "outputId": "ebf2e63e-9ceb-4e84-da5d-a06ffe978548",
        "colab": {
          "base_uri": "https://localhost:8080/"
        }
      },
      "execution_count": 8,
      "outputs": [
        {
          "output_type": "stream",
          "name": "stdout",
          "text": [
            "Correlation between Temp and Total Rider: 0.6274940090334918\n"
          ]
        }
      ]
    },
    {
      "cell_type": "markdown",
      "source": [
        "Побудова графіку кількості поїздок за місяцями"
      ],
      "metadata": {
        "id": "9O-XukwDmoWU"
      }
    },
    {
      "cell_type": "code",
      "source": [
        "import matplotlib.pyplot as plt\n",
        "\n",
        "df.groupby('Month')['Total Rider'].sum().plot(kind='bar')\n",
        "plt.title('Total Rides by Month')\n",
        "plt.xlabel('Month')\n",
        "plt.ylabel('Total Rides')\n",
        "plt.show()\n"
      ],
      "metadata": {
        "id": "fJvldOs-mpyc",
        "outputId": "8ceb10d8-5cd5-4d04-96c9-865e0c742ddb",
        "colab": {
          "base_uri": "https://localhost:8080/",
          "height": 475
        }
      },
      "execution_count": 9,
      "outputs": [
        {
          "output_type": "display_data",
          "data": {
            "text/plain": [
              "<Figure size 640x480 with 1 Axes>"
            ],
            "image/png": "[encoded data removed]"
          },
          "metadata": {}
        }
      ]
    }
  ]
}