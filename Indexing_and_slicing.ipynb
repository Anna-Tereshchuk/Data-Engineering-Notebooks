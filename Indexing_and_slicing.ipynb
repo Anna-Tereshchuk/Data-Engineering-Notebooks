{
  "nbformat": 4,
  "nbformat_minor": 0,
  "metadata": {
    "colab": {
      "provenance": [],
      "authorship_tag": "ABX9TyMpO4rIoMfCoNnVli4Sc7wV",
      "include_colab_link": true
    },
    "kernelspec": {
      "name": "python3",
      "display_name": "Python 3"
    },
    "language_info": {
      "name": "python"
    }
  },
  "cells": [
    {
      "cell_type": "markdown",
      "metadata": {
        "id": "view-in-github",
        "colab_type": "text"
      },
      "source": [
        "<a href=\"https://colab.research.google.com/github/Anna-Tereshchuk/Data-Engineering-Notebooks/blob/main/Indexing_and_slicing.ipynb\" target=\"_parent\"><img src=\"https://colab.research.google.com/assets/colab-badge.svg\" alt=\"Open In Colab\"/></a>"
      ]
    },
    {
      "cell_type": "markdown",
      "source": [
        "**NumPy** (скорочено від Numerical Python) є основою числових обчислень у Python. Це потужний інструмент для роботи з масивами даних, який дозволяє виконувати швидкі математичні операції. NumPy інтегрується з Pandas, що робить аналіз даних ще швидшим та ефективнішим.\n",
        "\n",
        "\n",
        "\n",
        "\n"
      ],
      "metadata": {
        "id": "r7x1Q42P6hHy"
      }
    },
    {
      "cell_type": "code",
      "source": [
        "import numpy as np\n"
      ],
      "metadata": {
        "id": "ZVvcfzcfzp2M"
      },
      "execution_count": 1,
      "outputs": []
    },
    {
      "cell_type": "markdown",
      "source": [
        "**Створення масиву**"
      ],
      "metadata": {
        "id": "5jcpmXw7aYVm"
      }
    },
    {
      "cell_type": "code",
      "source": [
        "array1 = np.array([10, 20, 30, 40, 50])\n"
      ],
      "metadata": {
        "id": "1dJ3NS2caaFd"
      },
      "execution_count": 2,
      "outputs": []
    },
    {
      "cell_type": "markdown",
      "source": [
        "**Доступ до елементів за індексом:**\n",
        "\n",
        "\n",
        "\n",
        "> Доступ до другого елемента  (індекс 1, оскільки індексація починається з 0):\n",
        "\n"
      ],
      "metadata": {
        "id": "TYe4NZdFaf7N"
      }
    },
    {
      "cell_type": "code",
      "source": [
        "second_element = array1[1]\n",
        "print(second_element)\n"
      ],
      "metadata": {
        "colab": {
          "base_uri": "https://localhost:8080/"
        },
        "id": "Pe80whWaa4cq",
        "outputId": "bd119c6b-c4ee-4b55-80cb-32f57112e62f"
      },
      "execution_count": 3,
      "outputs": [
        {
          "output_type": "stream",
          "name": "stdout",
          "text": [
            "20\n"
          ]
        }
      ]
    },
    {
      "cell_type": "markdown",
      "source": [
        "\n",
        "\n",
        "> Доступ до другого з кінця елемента (індекс -2):\n",
        "\n"
      ],
      "metadata": {
        "id": "yM8j73GVa8-b"
      }
    },
    {
      "cell_type": "code",
      "source": [
        "second_last_element = array1[-2]\n",
        "print(second_last_element)\n"
      ],
      "metadata": {
        "colab": {
          "base_uri": "https://localhost:8080/"
        },
        "id": "-B3aFDl5bEJT",
        "outputId": "9259cc7e-e6c1-4ef6-86ba-2d8fb9d4a8e1"
      },
      "execution_count": 4,
      "outputs": [
        {
          "output_type": "stream",
          "name": "stdout",
          "text": [
            "40\n"
          ]
        }
      ]
    },
    {
      "cell_type": "markdown",
      "source": [
        "**Нарізка (Slicing)**\n",
        "\n",
        "\n",
        "\n",
        "> Отримання підмасиву з другого по четвертий елемент (індекси 1 до 4, але 4 не включається):\n",
        "\n"
      ],
      "metadata": {
        "id": "VHFuN2GJbK1v"
      }
    },
    {
      "cell_type": "code",
      "source": [
        "sliced_array = array1[1:4]\n",
        "print(sliced_array)\n"
      ],
      "metadata": {
        "colab": {
          "base_uri": "https://localhost:8080/"
        },
        "id": "d1kYqcMDbYEk",
        "outputId": "71f734b9-92bf-4a44-b24a-35cf2adfa9b5"
      },
      "execution_count": 5,
      "outputs": [
        {
          "output_type": "stream",
          "name": "stdout",
          "text": [
            "[20 30 40]\n"
          ]
        }
      ]
    },
    {
      "cell_type": "markdown",
      "source": [
        "\n",
        ">Нарізка з кроком (отримання кожного другого елемента):\n",
        "\n"
      ],
      "metadata": {
        "id": "u3ldyt2nbcZ1"
      }
    },
    {
      "cell_type": "code",
      "source": [
        "step_array = array1[::2]\n",
        "print(step_array)\n"
      ],
      "metadata": {
        "colab": {
          "base_uri": "https://localhost:8080/"
        },
        "id": "FeXhI9ANbnan",
        "outputId": "6c33ca85-2f39-4bc2-d878-9fb256b474dc"
      },
      "execution_count": 6,
      "outputs": [
        {
          "output_type": "stream",
          "name": "stdout",
          "text": [
            "[10 30 50]\n"
          ]
        }
      ]
    },
    {
      "cell_type": "markdown",
      "source": [
        "**Індексація та нарізка багатовимірних масивів**\n",
        "\n",
        "\n",
        "\n",
        "> Створення матриці (2D масиву):\n",
        "\n"
      ],
      "metadata": {
        "id": "-Yvq3UTEbumY"
      }
    },
    {
      "cell_type": "code",
      "source": [
        "matrix = np.array([[1, 2, 3], [4, 5, 6], [7, 8, 9]])\n",
        "print(matrix)"
      ],
      "metadata": {
        "colab": {
          "base_uri": "https://localhost:8080/"
        },
        "id": "k-NYXkx8b2pX",
        "outputId": "952c63ed-7977-4ea1-d034-4e65e0ef3b6a"
      },
      "execution_count": 9,
      "outputs": [
        {
          "output_type": "stream",
          "name": "stdout",
          "text": [
            "[[1 2 3]\n",
            " [4 5 6]\n",
            " [7 8 9]]\n"
          ]
        }
      ]
    },
    {
      "cell_type": "markdown",
      "source": [
        "**Доступ до елементів у матриці:**\n",
        "\n",
        "\n",
        "\n",
        "> Доступ до елемента у другому рядку та другому стовпці (індекси [1, 1]):\n",
        "\n"
      ],
      "metadata": {
        "id": "_UZdisvdb-KD"
      }
    },
    {
      "cell_type": "code",
      "source": [
        "element = matrix[1, 1]\n",
        "print(element)\n"
      ],
      "metadata": {
        "colab": {
          "base_uri": "https://localhost:8080/"
        },
        "id": "1XBoJOlRcFgV",
        "outputId": "bdf08228-8d44-42a9-bb60-3dbf65b9e94b"
      },
      "execution_count": 8,
      "outputs": [
        {
          "output_type": "stream",
          "name": "stdout",
          "text": [
            "5\n"
          ]
        }
      ]
    },
    {
      "cell_type": "markdown",
      "source": [
        "**Нарізка рядків та стовпців у матриці:**\n",
        "\n",
        "\n",
        "> Отримання другого рядка:\n",
        "\n",
        "\n"
      ],
      "metadata": {
        "id": "dIo6A3PLcbA6"
      }
    },
    {
      "cell_type": "code",
      "source": [
        "second_row = matrix[1, :]\n",
        "print(second_row)  # [4 5 6]\n"
      ],
      "metadata": {
        "colab": {
          "base_uri": "https://localhost:8080/"
        },
        "id": "m6i5gzK-chUE",
        "outputId": "3fedb4cc-cffd-4db1-ac54-2cee9a2aa87d"
      },
      "execution_count": 10,
      "outputs": [
        {
          "output_type": "stream",
          "name": "stdout",
          "text": [
            "[4 5 6]\n"
          ]
        }
      ]
    },
    {
      "cell_type": "markdown",
      "source": [
        "\n",
        "> Отримання другого стовпця:\n",
        "\n"
      ],
      "metadata": {
        "id": "laBfIFvlcncf"
      }
    },
    {
      "cell_type": "code",
      "source": [
        "second_column = matrix[:, 1]\n",
        "print(second_column)  # [2 5 8]\n"
      ],
      "metadata": {
        "colab": {
          "base_uri": "https://localhost:8080/"
        },
        "id": "NMXEQQ8RcsIP",
        "outputId": "42693d4e-83bc-4f9e-fb9c-7fe2e7e1b191"
      },
      "execution_count": 11,
      "outputs": [
        {
          "output_type": "stream",
          "name": "stdout",
          "text": [
            "[2 5 8]\n"
          ]
        }
      ]
    },
    {
      "cell_type": "markdown",
      "source": [
        "**Управління відсутніми даними в NumPy**\n",
        "\n",
        "\n",
        "\n",
        "> Створення масиву з відсутніми значеннями:\n",
        "\n"
      ],
      "metadata": {
        "id": "rd4i4j7-c2Y6"
      }
    },
    {
      "cell_type": "code",
      "source": [
        "data = np.array([1, 2, 3, np.nan, 4, 5])\n",
        "print(data)"
      ],
      "metadata": {
        "colab": {
          "base_uri": "https://localhost:8080/"
        },
        "id": "wf83XnwMc-Gi",
        "outputId": "1e66b601-13d0-4aa7-eae4-91217233c000"
      },
      "execution_count": 12,
      "outputs": [
        {
          "output_type": "stream",
          "name": "stdout",
          "text": [
            "[ 1.  2.  3. nan  4.  5.]\n"
          ]
        }
      ]
    },
    {
      "cell_type": "markdown",
      "source": [
        "\n",
        "> Виявлення відсутніх значень\n",
        "\n"
      ],
      "metadata": {
        "id": "qd6q7tqcdHgJ"
      }
    },
    {
      "cell_type": "code",
      "source": [
        "missing = np.isnan(data)\n",
        "print(missing)"
      ],
      "metadata": {
        "colab": {
          "base_uri": "https://localhost:8080/"
        },
        "id": "YCt_jRVqdMd-",
        "outputId": "a4e37f9a-19ed-4e8e-9910-74043c4a0fb9"
      },
      "execution_count": 13,
      "outputs": [
        {
          "output_type": "stream",
          "name": "stdout",
          "text": [
            "[False False False  True False False]\n"
          ]
        }
      ]
    },
    {
      "cell_type": "markdown",
      "source": [
        "\n",
        "\n",
        "> Заповнення відсутніх значень:\n",
        "\n"
      ],
      "metadata": {
        "id": "WImUDUebdVoC"
      }
    },
    {
      "cell_type": "code",
      "source": [
        "data_filled = np.nan_to_num(data, nan=100)\n",
        "print(data_filled)"
      ],
      "metadata": {
        "colab": {
          "base_uri": "https://localhost:8080/"
        },
        "id": "AV2PwXjhdYef",
        "outputId": "454c536d-ff2a-46db-c9a3-ba90b2db9763"
      },
      "execution_count": 14,
      "outputs": [
        {
          "output_type": "stream",
          "name": "stdout",
          "text": [
            "[  1.   2.   3. 100.   4.   5.]\n"
          ]
        }
      ]
    }
  ]
}