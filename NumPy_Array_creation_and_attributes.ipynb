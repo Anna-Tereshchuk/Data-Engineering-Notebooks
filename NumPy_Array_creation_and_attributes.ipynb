{
  "nbformat": 4,
  "nbformat_minor": 0,
  "metadata": {
    "colab": {
      "provenance": [],
      "authorship_tag": "ABX9TyN3l71IwI8M6kZqAsXSQJV2",
      "include_colab_link": true
    },
    "kernelspec": {
      "name": "python3",
      "display_name": "Python 3"
    },
    "language_info": {
      "name": "python"
    }
  },
  "cells": [
    {
      "cell_type": "markdown",
      "metadata": {
        "id": "view-in-github",
        "colab_type": "text"
      },
      "source": [
        "<a href=\"https://colab.research.google.com/github/Anna-Tereshchuk/Data-Engineering-Notebooks/blob/main/NumPy_Array_creation_and_attributes.ipynb\" target=\"_parent\"><img src=\"https://colab.research.google.com/assets/colab-badge.svg\" alt=\"Open In Colab\"/></a>"
      ]
    },
    {
      "cell_type": "markdown",
      "source": [
        "**NumPy** (скорочено від Numerical Python) є основою числових обчислень у Python. Це потужний інструмент для роботи з масивами даних, який дозволяє виконувати швидкі математичні операції. NumPy інтегрується з Pandas, що робить аналіз даних ще швидшим та ефективнішим.\n",
        "\n",
        "\n",
        "\n",
        "\n"
      ],
      "metadata": {
        "id": "r7x1Q42P6hHy"
      }
    },
    {
      "cell_type": "code",
      "source": [
        "import numpy as np\n"
      ],
      "metadata": {
        "id": "ZVvcfzcfzp2M"
      },
      "execution_count": 1,
      "outputs": []
    },
    {
      "cell_type": "markdown",
      "source": [
        "Створення масиву з списку"
      ],
      "metadata": {
        "id": "2J5yNc-wz8OH"
      }
    },
    {
      "cell_type": "code",
      "source": [
        "numbers_list = [1, 2, 3, 4, 5]\n",
        "array_from_list = np.array(numbers_list)\n",
        "print(array_from_list)\n"
      ],
      "metadata": {
        "colab": {
          "base_uri": "https://localhost:8080/"
        },
        "id": "7KTXRVbVz2d1",
        "outputId": "7a2f36ec-b406-45d7-d97d-b65cfa62ce18"
      },
      "execution_count": 2,
      "outputs": [
        {
          "output_type": "stream",
          "name": "stdout",
          "text": [
            "[1 2 3 4 5]\n"
          ]
        }
      ]
    },
    {
      "cell_type": "markdown",
      "source": [
        "Створення масиву з нулями"
      ],
      "metadata": {
        "id": "sXm9gbrT0CmY"
      }
    },
    {
      "cell_type": "code",
      "source": [
        "zero_array = np.zeros(5)\n",
        "print(zero_array)\n"
      ],
      "metadata": {
        "colab": {
          "base_uri": "https://localhost:8080/"
        },
        "id": "gF7XIX8x0Di1",
        "outputId": "e25d4c66-c290-4062-da8e-8ebb3493e2f0"
      },
      "execution_count": 3,
      "outputs": [
        {
          "output_type": "stream",
          "name": "stdout",
          "text": [
            "[0. 0. 0. 0. 0.]\n"
          ]
        }
      ]
    },
    {
      "cell_type": "markdown",
      "source": [
        "Створення масиву з одиницями"
      ],
      "metadata": {
        "id": "I71FA1_N0JWo"
      }
    },
    {
      "cell_type": "code",
      "source": [
        "ones_array = np.ones(3)\n",
        "print(ones_array)\n"
      ],
      "metadata": {
        "colab": {
          "base_uri": "https://localhost:8080/"
        },
        "id": "WWsynRzR0KQm",
        "outputId": "38b88cbb-1067-4b7e-85b0-141427d3d493"
      },
      "execution_count": 4,
      "outputs": [
        {
          "output_type": "stream",
          "name": "stdout",
          "text": [
            "[1. 1. 1.]\n"
          ]
        }
      ]
    },
    {
      "cell_type": "markdown",
      "source": [
        "Створення масиву з діапазону чисел"
      ],
      "metadata": {
        "id": "iQW8_jgw0QMa"
      }
    },
    {
      "cell_type": "code",
      "source": [
        "range_array = np.arange(1, 10, 2)\n",
        "print(range_array)\n"
      ],
      "metadata": {
        "colab": {
          "base_uri": "https://localhost:8080/"
        },
        "id": "lVJLDW8c0RHu",
        "outputId": "3c306c37-0070-4163-fc22-8729156eb16d"
      },
      "execution_count": 5,
      "outputs": [
        {
          "output_type": "stream",
          "name": "stdout",
          "text": [
            "[1 3 5 7 9]\n"
          ]
        }
      ]
    },
    {
      "cell_type": "markdown",
      "source": [
        "Створення масиву з випадкових цілих чисел"
      ],
      "metadata": {
        "id": "Usdbf11K0VS0"
      }
    },
    {
      "cell_type": "code",
      "source": [
        "random_array = np.random.randint(1, 100, size=5)\n",
        "print(random_array)\n"
      ],
      "metadata": {
        "colab": {
          "base_uri": "https://localhost:8080/"
        },
        "id": "7rXjYTk10YvK",
        "outputId": "5b588ad8-00c6-44bf-c1bd-fd03943dd346"
      },
      "execution_count": 6,
      "outputs": [
        {
          "output_type": "stream",
          "name": "stdout",
          "text": [
            "[56 55 15 67 34]\n"
          ]
        }
      ]
    },
    {
      "cell_type": "markdown",
      "source": [
        "Створення випадкової матриці"
      ],
      "metadata": {
        "id": "B-eyDbjI0dJj"
      }
    },
    {
      "cell_type": "code",
      "source": [
        "random_matrix = np.random.rand(3, 3)\n",
        "print(random_matrix)\n"
      ],
      "metadata": {
        "colab": {
          "base_uri": "https://localhost:8080/"
        },
        "id": "MfRF6TwL0exm",
        "outputId": "e1cbfbf2-8b63-4dc9-8ea8-546a1a6aa64c"
      },
      "execution_count": 7,
      "outputs": [
        {
          "output_type": "stream",
          "name": "stdout",
          "text": [
            "[[0.46051405 0.68493935 0.39710755]\n",
            " [0.02898574 0.07311606 0.67738276]\n",
            " [0.40618293 0.84017578 0.41739525]]\n"
          ]
        }
      ]
    },
    {
      "cell_type": "markdown",
      "source": [
        "**Атрибути масивів**"
      ],
      "metadata": {
        "id": "C9Yw0dqK0krX"
      }
    },
    {
      "cell_type": "markdown",
      "source": [
        "Форма масиву"
      ],
      "metadata": {
        "id": "UJNOiVMW0m3W"
      }
    },
    {
      "cell_type": "code",
      "source": [
        "shape = range_array.shape\n",
        "print(shape)\n"
      ],
      "metadata": {
        "colab": {
          "base_uri": "https://localhost:8080/"
        },
        "id": "d-_f-gKK0r3n",
        "outputId": "d871aca7-4007-4027-a4af-9e645cf4df8e"
      },
      "execution_count": 8,
      "outputs": [
        {
          "output_type": "stream",
          "name": "stdout",
          "text": [
            "(5,)\n"
          ]
        }
      ]
    },
    {
      "cell_type": "markdown",
      "source": [
        "Розмір масиву"
      ],
      "metadata": {
        "id": "Mihz7CO90x-h"
      }
    },
    {
      "cell_type": "code",
      "source": [
        "size = range_array.size\n",
        "print(size)\n"
      ],
      "metadata": {
        "colab": {
          "base_uri": "https://localhost:8080/"
        },
        "id": "m__ukgRN0zz_",
        "outputId": "da4d5070-3554-4522-82bc-a1c65a1fa292"
      },
      "execution_count": 9,
      "outputs": [
        {
          "output_type": "stream",
          "name": "stdout",
          "text": [
            "5\n"
          ]
        }
      ]
    },
    {
      "cell_type": "markdown",
      "source": [
        "Тип даних масиву"
      ],
      "metadata": {
        "id": "t0A7TXZA085l"
      }
    },
    {
      "cell_type": "code",
      "source": [
        "dtype = range_array.dtype\n",
        "print(dtype)\n"
      ],
      "metadata": {
        "colab": {
          "base_uri": "https://localhost:8080/"
        },
        "id": "pP1qpfHy1J0A",
        "outputId": "c52d0c78-55ec-4f78-d295-9015bb1366b1"
      },
      "execution_count": 10,
      "outputs": [
        {
          "output_type": "stream",
          "name": "stdout",
          "text": [
            "int64\n"
          ]
        }
      ]
    },
    {
      "cell_type": "markdown",
      "source": [
        "Вимірність масиву"
      ],
      "metadata": {
        "id": "a6o-Z7DH1OV4"
      }
    },
    {
      "cell_type": "code",
      "source": [
        "ndim = range_array.ndim\n",
        "print(ndim)\n"
      ],
      "metadata": {
        "colab": {
          "base_uri": "https://localhost:8080/"
        },
        "id": "1kO24bRY1P4T",
        "outputId": "e57cfce1-3d09-46ef-f219-087e96f42653"
      },
      "execution_count": 11,
      "outputs": [
        {
          "output_type": "stream",
          "name": "stdout",
          "text": [
            "1\n"
          ]
        }
      ]
    }
  ]
}