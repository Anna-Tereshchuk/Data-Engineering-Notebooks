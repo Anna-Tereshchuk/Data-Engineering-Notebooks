{
  "nbformat": 4,
  "nbformat_minor": 0,
  "metadata": {
    "colab": {
      "provenance": [],
      "authorship_tag": "ABX9TyMukQTz0+yfSIhesZILF69d",
      "include_colab_link": true
    },
    "kernelspec": {
      "name": "python3",
      "display_name": "Python 3"
    },
    "language_info": {
      "name": "python"
    }
  },
  "cells": [
    {
      "cell_type": "markdown",
      "metadata": {
        "id": "view-in-github",
        "colab_type": "text"
      },
      "source": [
        "<a href=\"https://colab.research.google.com/github/Anna-Tereshchuk/Data-Engineering-Notebooks/blob/main/Py_file_handing.ipynb\" target=\"_parent\"><img src=\"https://colab.research.google.com/assets/colab-badge.svg\" alt=\"Open In Colab\"/></a>"
      ]
    },
    {
      "cell_type": "markdown",
      "source": [
        "**Робота з файлами:**\n",
        "\n",
        "У сфері обробки даних робота з файлами схожа на роботу з даними в їх найсирішій формі. Від журналів і конфігурацій до структурованих даних і звітів - файли є основою маніпуляцій з даними.\n",
        "\n",
        "**Формати файлів:**\n",
        "\n",
        "Python надає різні способи читання та запису файлів. Залежно від потреб проекту, часто потрібно читати файли певного формату, наприклад, CSV, JSON, XML, Excel та інші.\n",
        "Найбільш поширені формати файлів у сфері обробки даних: CSV, JSON, XML та Excel.\n",
        "\n",
        "Читання та запис файлів дуже корисні в реальних сценаріях. Наприклад, аналіз журналів сервера, аналіз даних у форматі CSV або обробка телеметричних даних IoT у форматі JSON.\n",
        "Одним з найбільших викликів при читанні та запису файлів програмним способом у Python є обробка некоректних даних у файлах, що може призвести до багатьох помилок.\n",
        "Ефективне оброблення помилок є важливою навичкою.\n"
      ],
      "metadata": {
        "id": "OHbVsXUOR9fs"
      }
    },
    {
      "cell_type": "markdown",
      "source": [
        "**CSV**\n",
        "\n",
        "CSV файл схожий на таблицю з рядками та стовпцями. Кожен рядок представляє запис, а стовпці представляють атрибути або поля. Значення розділені комами, тому файл називається “comma-separated values” (CSV).\n"
      ],
      "metadata": {
        "id": "ovTSFwlpSXGU"
      }
    },
    {
      "cell_type": "markdown",
      "source": [],
      "metadata": {
        "id": "jIWEe1IqT63a"
      }
    }
  ]
}