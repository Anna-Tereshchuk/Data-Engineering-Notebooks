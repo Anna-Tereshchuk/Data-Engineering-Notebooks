{
  "nbformat": 4,
  "nbformat_minor": 0,
  "metadata": {
    "colab": {
      "provenance": [],
      "authorship_tag": "ABX9TyMH6Cgq6nRnEYIUqS5yf86A",
      "include_colab_link": true
    },
    "kernelspec": {
      "name": "python3",
      "display_name": "Python 3"
    },
    "language_info": {
      "name": "python"
    }
  },
  "cells": [
    {
      "cell_type": "markdown",
      "metadata": {
        "id": "view-in-github",
        "colab_type": "text"
      },
      "source": [
        "<a href=\"https://colab.research.google.com/github/Anna-Tereshchuk/Data-Engineering-Notebooks/blob/main/Python_basics.ipynb\" target=\"_parent\"><img src=\"https://colab.research.google.com/assets/colab-badge.svg\" alt=\"Open In Colab\"/></a>"
      ]
    },
    {
      "cell_type": "markdown",
      "source": [
        "\n",
        "*   перевіряється, чи число більше 10. Якщо так, виводиться “Greater”, інакше - “Smaller”.\n",
        "\n",
        "\n",
        "\n",
        "\n"
      ],
      "metadata": {
        "id": "R9mrcuqKMQHc"
      }
    },
    {
      "cell_type": "code",
      "source": [
        "num = 7\n",
        "if num > 10:\n",
        "    print(\"Greater\")\n",
        "else:\n",
        "    print(\"Smaller\")\n"
      ],
      "metadata": {
        "colab": {
          "base_uri": "https://localhost:8080/"
        },
        "id": "WsoiyiL3LbQS",
        "outputId": "97b26a83-1370-4c0b-be2e-3088c107ef66"
      },
      "execution_count": 2,
      "outputs": [
        {
          "output_type": "stream",
          "name": "stdout",
          "text": [
            "Smaller\n"
          ]
        }
      ]
    },
    {
      "cell_type": "markdown",
      "source": [
        "\n",
        "\n",
        "*   Цей цикл буде виконуватись 5 разів, виводячи значення i від 0 до 4.\n",
        "\n"
      ],
      "metadata": {
        "id": "enAlXj0HMDmY"
      }
    },
    {
      "cell_type": "code",
      "source": [
        "for i in range(5):\n",
        "    print(i)\n"
      ],
      "metadata": {
        "colab": {
          "base_uri": "https://localhost:8080/"
        },
        "id": "w176L5Q2LhKe",
        "outputId": "f21ad215-65ba-4c2a-c8e5-9d6ae704dbb8"
      },
      "execution_count": 3,
      "outputs": [
        {
          "output_type": "stream",
          "name": "stdout",
          "text": [
            "0\n",
            "1\n",
            "2\n",
            "3\n",
            "4\n"
          ]
        }
      ]
    },
    {
      "cell_type": "markdown",
      "source": [
        "\n",
        "\n",
        "*   Цей цикл буде виконуватись, поки значення number більше 0. Кожного разу значення number зменшується на 1.\n",
        "\n",
        "\n"
      ],
      "metadata": {
        "id": "qlLuhVbXL5QA"
      }
    },
    {
      "cell_type": "code",
      "source": [
        "number = 5\n",
        "while number > 0:\n",
        "    print(number)\n",
        "    number -= 1\n"
      ],
      "metadata": {
        "colab": {
          "base_uri": "https://localhost:8080/"
        },
        "id": "fxL4-1h9LrsI",
        "outputId": "47033d75-398b-4ed2-ccd8-f1bd41531731"
      },
      "execution_count": 4,
      "outputs": [
        {
          "output_type": "stream",
          "name": "stdout",
          "text": [
            "5\n",
            "4\n",
            "3\n",
            "2\n",
            "1\n"
          ]
        }
      ]
    },
    {
      "cell_type": "markdown",
      "source": [
        "\n",
        "\n",
        "*   Якщо змінити умову на while number >= 0:, цикл буде виконуватись до тих пір, поки значення number більше або дорівнює 0.\n",
        "\n",
        "\n"
      ],
      "metadata": {
        "id": "OC54pMl0MtsO"
      }
    },
    {
      "cell_type": "code",
      "source": [
        "number = 5\n",
        "while number >= 0:\n",
        "    print(number)\n",
        "    number -= 1\n"
      ],
      "metadata": {
        "colab": {
          "base_uri": "https://localhost:8080/"
        },
        "id": "k966zhe1NSuc",
        "outputId": "78000701-4fa2-4bd2-dc7b-dbf24cec6b07"
      },
      "execution_count": 5,
      "outputs": [
        {
          "output_type": "stream",
          "name": "stdout",
          "text": [
            "5\n",
            "4\n",
            "3\n",
            "2\n",
            "1\n",
            "0\n"
          ]
        }
      ]
    },
    {
      "cell_type": "markdown",
      "source": [
        "\n",
        "\n",
        "*   **Термінування циклу:** Цикл while завершується, коли умова стає хибною.\n",
        "*   **Контроль потоку:** Структури керування дозволяють контролювати потік виконання вашого коду, що є ключовим для написання динамічного та інтерактивного коду на Python\n",
        "\n"
      ],
      "metadata": {
        "id": "cx9_x-g7NlIx"
      }
    },
    {
      "cell_type": "markdown",
      "source": [
        "\n",
        "\n",
        "*  **Індентація:** В Python відступи мають значення. Вони визначають блоки коду.\n",
        "\n",
        "\n",
        "*   **Синтаксис:** Після умови в if та while використовується двокрапка :\n",
        "\n",
        "\n",
        "\n",
        "\n"
      ],
      "metadata": {
        "id": "xSKx5tHYMgj2"
      }
    },
    {
      "cell_type": "markdown",
      "source": [
        "**Функції в Python**\n",
        "\n",
        "\n",
        "*   Функція в Python - це блок багаторазового коду, який виконує конкретне завдання.\n",
        "*   Функції допомагають розбити програму на менші та модульні частини.\n",
        "\n",
        "*   Коли програма стає більшою, функції роблять її більш організованою та керованою.\n",
        "*   Створення функції в Python просте. Використовується ключове слово **def**, за яким слідує **ім’я функції** та **круглі дужки**.\n",
        "\n",
        "*   Щоб викликати функцію, потрібно написати її ім’я, слідом за яким йдуть круглі дужки.\n",
        "\n",
        "\n",
        "\n",
        "\n"
      ],
      "metadata": {
        "id": "cTDFXmkfTxst"
      }
    },
    {
      "cell_type": "code",
      "source": [
        "def greet():\n",
        "    print(\"Hello, world!\")\n",
        "greet()\n",
        "\n"
      ],
      "metadata": {
        "colab": {
          "base_uri": "https://localhost:8080/"
        },
        "id": "JIvN2-dAURRt",
        "outputId": "8de3ae89-25f3-46ec-dbee-365589fc71ca"
      },
      "execution_count": 8,
      "outputs": [
        {
          "output_type": "stream",
          "name": "stdout",
          "text": [
            "Hello, world!\n"
          ]
        }
      ]
    },
    {
      "cell_type": "markdown",
      "source": [
        "**Функції з параметрами:**\n",
        "\n",
        "\n",
        "*   Іноді функції приймають параметри, які дозволяють передавати дані у функцію.\n",
        "\n",
        "\n"
      ],
      "metadata": {
        "id": "GZ0iOYWtUenf"
      }
    },
    {
      "cell_type": "code",
      "source": [
        "def greet(name):\n",
        "    print(f\"Hello, {name}!\")\n",
        "greet(\"Anna\")\n"
      ],
      "metadata": {
        "colab": {
          "base_uri": "https://localhost:8080/"
        },
        "id": "c2RE4JgFU9H3",
        "outputId": "fa2831d4-24be-44fb-f262-9bda50c00062"
      },
      "execution_count": 10,
      "outputs": [
        {
          "output_type": "stream",
          "name": "stdout",
          "text": [
            "Hello, Anna!\n"
          ]
        }
      ]
    },
    {
      "cell_type": "markdown",
      "source": [
        "**Повернення значень з функцій:**\n",
        "\n",
        "\n",
        "*   Функції можуть не тільки приймати аргументи, але й повертати значення.\n",
        "*   Ця функція приймає два числа і повертає їх суму\n",
        "\n",
        "\n",
        "\n",
        "\n"
      ],
      "metadata": {
        "id": "EbyPKovAVJXe"
      }
    },
    {
      "cell_type": "code",
      "source": [
        "def add_numbers(num1, num2):\n",
        "    return num1 + num2\n",
        "result = add_numbers(3, 5)\n",
        "print(result)  # Виведе 8\n"
      ],
      "metadata": {
        "colab": {
          "base_uri": "https://localhost:8080/"
        },
        "id": "4WXP6SQIVoMM",
        "outputId": "9923e3b1-cf9e-4449-ed3f-ffd9cea30495"
      },
      "execution_count": 11,
      "outputs": [
        {
          "output_type": "stream",
          "name": "stdout",
          "text": [
            "8\n"
          ]
        }
      ]
    },
    {
      "cell_type": "markdown",
      "source": [
        "\n",
        "\n",
        "*  **Модульність:** Функції допомагають зробити код більш модульним і легким для розуміння.\n",
        "*   **Повторне використання:** Функції дозволяють повторно використовувати код без необхідності його дублювання.\n",
        "\n",
        "*  **Організація:** Використання функцій робить програму більш організованою та легкою для підтримки.\n",
        "\n",
        "\n",
        "\n",
        "\n"
      ],
      "metadata": {
        "id": "Bftv0wUlVw1E"
      }
    },
    {
      "cell_type": "markdown",
      "source": [
        "**Модулі:**\n",
        "\n",
        "\n",
        "*   **Модуль у Python** - це файл, що містить код на Python. Цей код може визначати функції, класи та змінні.\n",
        "*   Модулі схожі на набір інструментів, до якого можна звернутися, коли потрібен конкретний інструмент.\n",
        "\n",
        "*   Щоб використовувати модуль, його потрібно імпортувати в програму. Це схоже на відкриття набору інструментів, щоб використовувати інструменти всередині.\n",
        "*  Щоб імпортувати модуль, використовується ключове слово **import**, а потім ім’я модуля.\n",
        "\n",
        "\n",
        "*  ` **import math**`\n",
        "\n",
        "*   Цей рядок додає модуль math у ваш код, який можна використовувати для виконання математичних операцій.\n",
        "\n",
        "*   Модуль **math** містить багато інших функцій, таких як floor, ceil, factorial тощо.\n",
        "\n",
        "\n",
        "\n",
        "\n",
        "\n",
        "\n",
        "\n"
      ],
      "metadata": {
        "id": "LnMjq3_Ib8X8"
      }
    },
    {
      "cell_type": "markdown",
      "source": [
        "**Пакети:**\n",
        "\n",
        "\n",
        "*  ** Пакет у Python** - це спосіб організації пов’язаних модулів у ієрархію каталогів. Це схоже на папку, що містить кілька файлів.\n",
        "*   Щоб використовувати пакет, його потрібно спочатку встановити, оскільки пакети не вбудовані в Python. Вони створені іншими розробниками та поширюються в спільноті.\n",
        "\n",
        "*   Для встановлення пакета використовується команда `pip install`.\n",
        "*   Після встановлення пакета його можна імпортувати та використовувати його функції.\n",
        "\n",
        "\n",
        "\n"
      ],
      "metadata": {
        "id": "e8DGut0KcvME"
      }
    },
    {
      "cell_type": "markdown",
      "source": [
        "**Пояснення коду:**\n",
        "\n",
        "\n",
        "*   Імпортуємо модуль math, який містить математичні функції.\n",
        "*   Використовуємо функцію sqrt для обчислення квадратного кореня числа.\n",
        "\n",
        "*   Імпортуємо пакет pandas та присвоюємо йому псевдонім pd.\n",
        "*   Створюємо DataFrame з даними про імена та вік.\n",
        "\n",
        "*  Виводимо DataFrame на екран.\n",
        "*   **Використання інших функцій з модуля math:**\n",
        "\n",
        "\n",
        "*   Використовуємо функцію floor для округлення числа вниз.\n",
        "*   Використовуємо функцію ceil для округлення числа вгору.\n",
        "\n",
        "*   Використовуємо функцію factorial для обчислення факторіалу числа.\n",
        "*   Цей код демонструє, як можна використовувати модулі та пакети для виконання різних завдань у Python.\n",
        "\n",
        "\n",
        "\n",
        "\n",
        "\n",
        "\n",
        "\n",
        "\n"
      ],
      "metadata": {
        "id": "kznv-ueTdajr"
      }
    },
    {
      "cell_type": "code",
      "source": [
        "# Імпорт модуля math\n",
        "import math\n",
        "\n",
        "# Використання функції sqrt з модуля math\n",
        "number = 16\n",
        "sqrt_result = math.sqrt(number)\n",
        "print(f\"Квадратний корінь з {number} дорівнює {sqrt_result}\")\n",
        "\n",
        "# Імпорт пакета pandas\n",
        "import pandas as pd\n",
        "\n",
        "# Створення DataFrame за допомогою pandas\n",
        "data = {\n",
        "    'Name': ['John', 'Anna', 'Peter'],\n",
        "    'Age': [28, 24, 35]\n",
        "}\n",
        "df = pd.DataFrame(data)\n",
        "\n",
        "# Виведення DataFrame\n",
        "print(\"\\nDataFrame:\")\n",
        "print(df)\n",
        "\n",
        "# Використання функції floor з модуля math\n",
        "floor_result = math.floor(3.7)\n",
        "print(f\"\\nФункція floor для 3.7 дорівнює {floor_result}\")\n",
        "\n",
        "# Використання функції ceil з модуля math\n",
        "ceil_result = math.ceil(3.7)\n",
        "print(f\"Функція ceil для 3.7 дорівнює {ceil_result}\")\n",
        "\n",
        "# Використання функції factorial з модуля math\n",
        "factorial_result = math.factorial(5)\n",
        "print(f\"Факторіал числа 5 дорівнює {factorial_result}\")\n"
      ],
      "metadata": {
        "colab": {
          "base_uri": "https://localhost:8080/"
        },
        "id": "CbB25uuydVJO",
        "outputId": "ef1e78ad-1de8-4821-9709-da20049d079b"
      },
      "execution_count": 12,
      "outputs": [
        {
          "output_type": "stream",
          "name": "stdout",
          "text": [
            "Квадратний корінь з 16 дорівнює 4.0\n",
            "\n",
            "DataFrame:\n",
            "    Name  Age\n",
            "0   John   28\n",
            "1   Anna   24\n",
            "2  Peter   35\n",
            "\n",
            "Функція floor для 3.7 дорівнює 3\n",
            "Функція ceil для 3.7 дорівнює 4\n",
            "Факторіал числа 5 дорівнює 120\n"
          ]
        }
      ]
    },
    {
      "cell_type": "markdown",
      "source": [
        "\n",
        "**Маніпуляції з рядками в Python**\n",
        "*   Строки в Python - це послідовності символів. Вони можуть включати літери, цифри, символи та навіть пробіли\n",
        "*   Строку можна уявити як речення або слово.\n",
        "\n",
        "*   У Python строку визначають, обмежуючи символи одинарними або подвійними лапками.\n",
        "\n",
        "\n",
        "```\n",
        "greeting = \"Hello Data engineering!!\"\n",
        "print(greeting)\n",
        "```\n",
        "*   **Конкатенація** - це об’єднання двох або більше строк.\n",
        "*   greeting = \"Hello Data engineering!!\"\n",
        "\n",
        "\n",
        "```\n",
        "name = \"John\"\n",
        "message = greeting + name\n",
        "print(message)  # Виведе \"Hello Data engineering!!John\"\n",
        "```\n",
        "*   **Метод replace** дозволяє замінити частину строки іншою строкою.\n",
        "\n",
        "```\n",
        "new_string = greeting.replace(\"Hello\", \"Hi\")\n",
        "print(new_string)  # Виведе \"Hi Data engineering!!\"\n",
        "```\n",
        "*   **Метод strip** видаляє пробіли на **початку** та в **кінці** строки.\n",
        "\n",
        "\n",
        "```\n",
        "sentence = \"   Hello World   \"\n",
        "trimmed_sentence = sentence.strip()\n",
        "print(trimmed_sentence)  # Виведе \"Hello World\"\n",
        "\n",
        "```\n",
        "\n",
        "\n",
        "*   **Метод find** повертає індекс підстроки у рядку.\n",
        "\n",
        "\n",
        "```\n",
        "index = greeting.find(\"Data\")\n",
        "print(index)  # Виведе 6\n",
        "\n",
        "```\n",
        "*   **Метод format** дозволяє вставляти значення в строку під час виконання програми.\n",
        "\n",
        "\n",
        "```\n",
        "template = \"Hello, {}\"\n",
        "formatted_string = template.format(\"Anna\")\n",
        "print(formatted_string)  # Виведе \"Hello, Anna\"\n",
        "\n",
        "```\n",
        "\n",
        "\n",
        "\n",
        "* **upper** - перетворює всі символи строки на великі.  \n",
        "*   **lower** - перетворює всі символи строки на малі.\n",
        "\n",
        "\n",
        "```\n",
        "text = \"Hello World\"\n",
        "print(text.upper())  # Виведе \"HELLO WORLD\"\n",
        "print(text.lower())  # Виведе \"hello world\"\n",
        "\n",
        "```\n",
        "\n",
        "\n",
        "\n",
        "\n",
        "\n",
        "\n",
        "\n",
        "\n",
        "\n",
        "\n",
        "\n",
        "\n",
        "\n",
        "\n",
        "\n",
        "\n",
        "\n",
        "\n",
        "\n",
        "\n",
        "\n",
        "\n"
      ],
      "metadata": {
        "id": "1Nu29QpZeLq-"
      }
    },
    {
      "cell_type": "markdown",
      "source": [
        "**Пояснення коду:**\n",
        "\n",
        "\n",
        "*   **Створення строки:** Створюємо строку greeting та виводимо її значення.\n",
        "*   **Конкатенація строк:** Об’єднуємо строки greeting та name і виводимо результат.\n",
        "\n",
        "*   **Заміна частини строки:** Замінюємо “Hello” на “Hi” у строкі greeting і виводимо нову строку.\n",
        "*   **Видалення пробілів**: Видаляємо пробіли на початку та в кінці строки sentence за допомогою методу strip.\n",
        "*   **Пошук підстроки:** Знаходимо індекс підстроки “Data” у строкі greeting за допомогою методу find.\n",
        "*   **Форматування строки:** Використовуємо метод format для вставки значення в строку template.\n",
        "*   **Перетворення на великі літери:** Перетворюємо всі символи строки greeting на великі літери за допомогою методу upper.\n",
        "*   **Перетворення на малі літери:** Перетворюємо всі символи строки greeting на малі літери за допомогою методу lower.\n",
        "\n",
        "\n",
        "\n",
        "\n",
        "\n",
        "\n",
        "\n",
        "\n",
        "\n"
      ],
      "metadata": {
        "id": "FOYakW5oh_pI"
      }
    },
    {
      "cell_type": "code",
      "source": [
        "# Створення строки\n",
        "greeting = \"Hello Data engineering!!\"\n",
        "print(\"Оригінальна строка:\", greeting)\n",
        "\n",
        "# Конкатенація строк\n",
        "name = \"Anna\"\n",
        "message = greeting + \" \" + name\n",
        "print(\"Конкатенація строк:\", message)\n",
        "\n",
        "# Заміна частини строки\n",
        "new_string = greeting.replace(\"Hello\", \"Hi\")\n",
        "print(\"Заміна частини строки:\", new_string)\n",
        "\n",
        "# Видалення пробілів\n",
        "sentence = \"   Hello World   \"\n",
        "trimmed_sentence = sentence.strip()\n",
        "print(\"Видалення пробілів:\", trimmed_sentence)\n",
        "\n",
        "# Пошук підстроки\n",
        "index = greeting.find(\"Data\")\n",
        "print(\"Пошук підстроки 'Data':\", index)\n",
        "\n",
        "# Форматування строки\n",
        "template = \"Hello, {}\"\n",
        "formatted_string = template.format(\"Anna\")\n",
        "print(\"Форматування строки:\", formatted_string)\n",
        "\n",
        "# Перетворення на великі літери\n",
        "upper_text = greeting.upper()\n",
        "print(\"Великі літери:\", upper_text)\n",
        "\n",
        "# Перетворення на малі літери\n",
        "lower_text = greeting.lower()\n",
        "print(\"Малі літери:\", lower_text)\n"
      ],
      "metadata": {
        "colab": {
          "base_uri": "https://localhost:8080/"
        },
        "id": "417xDWXsiz4i",
        "outputId": "dc4b2adf-c226-428b-d1dd-fa6f41fdc9bb"
      },
      "execution_count": 15,
      "outputs": [
        {
          "output_type": "stream",
          "name": "stdout",
          "text": [
            "Оригінальна строка: Hello Data engineering!!\n",
            "Конкатенація строк: Hello Data engineering!! Anna\n",
            "Заміна частини строки: Hi Data engineering!!\n",
            "Видалення пробілів: Hello World\n",
            "Пошук підстроки 'Data': 6\n",
            "Форматування строки: Hello, Anna\n",
            "Великі літери: HELLO DATA ENGINEERING!!\n",
            "Малі літери: hello data engineering!!\n"
          ]
        }
      ]
    },
    {
      "cell_type": "markdown",
      "source": [
        "**Обробка помилок у Python**\n",
        "\n",
        "\n",
        "*   Помилки в Python неминучі. Незалежно від того, наскільки обережно ви пишете код, ви зрештою створите код, який не працює так, як очікується. Але це нормально.\n",
        "*   Python надає інструменти для елегантної обробки помилок, дозволяючи вашій програмі відновлюватися від помилок або навіть запобігати їх виникненню.\n",
        "\n",
        "\n",
        "*   **Приклад:**\n",
        "\n",
        "\n",
        "```\n",
        "print(10 / 0)\n",
        "\n",
        "```\n",
        "*   Цей код викликає помилку ділення на нуль (ZeroDivisionError), яка повідомляє, що не можна ділити на нуль.\n",
        "\n",
        "**Обробка помилок за допомогою блоку try-except:**\n",
        "\n",
        "\n",
        "*   Блок try містить код, який може викликати помилку, а блок except містить код, який буде виконано, якщо виникне помилка.\n",
        "*   Приклад:\n",
        "\n",
        "\n",
        "```\n",
        "try:\n",
        "    print(10 / 0)\n",
        "except ZeroDivisionError:\n",
        "    print(\"Вибачте, ви ділите на нуль\")\n",
        "\n",
        "```\n",
        "Якщо ви не впевнені, яка саме помилка може виникнути, можна використовувати загальний блок except.\n",
        "Приклад\n",
        "\n",
        "\n",
        "```\n",
        "try:\n",
        "    print(10 / 0)\n",
        "except:\n",
        "    print(\"Сталася помилка\")\n",
        "\n",
        "```\n",
        "**Використання блоків else та finally:**\n",
        "\n",
        "\n",
        "*   Блок **else** містить код, який буде виконано, якщо помилки не виникло.\n",
        "*   Блок **finally** містить код, який буде виконано незалежно від того, чи виникла помилка.\n",
        "\n",
        "**Приклад:**\n",
        "\n",
        "\n",
        "```\n",
        "try:\n",
        "    result = 10 / 2\n",
        "except ZeroDivisionError:\n",
        "    print(\"Вибачте, ви ділите на нуль\")\n",
        "else:\n",
        "    print(\"Все добре, результат:\", result)\n",
        "finally:\n",
        "    print(\"Цей блок виконується завжди\")\n",
        "\n",
        "```\n",
        "\n",
        "\n",
        "\n",
        "\n",
        "\n",
        "\n",
        "\n",
        "\n",
        "\n",
        "\n",
        "\n",
        "\n"
      ],
      "metadata": {
        "id": "FUf1WPgtjpx6"
      }
    },
    {
      "cell_type": "markdown",
      "source": [
        "**Пояснення коду:**\n",
        "\n",
        "Обробка помилки ділення на нуль\n",
        "*   Використовуємо блок try для виконання ділення.\n",
        "*   Якщо виникає помилка ZeroDivisionError, виконується блок except.\n",
        "*   Блок else виконується, якщо помилки не виникло.\n",
        "*   Блок finally виконується завжди, незалежно від того, чи виникла помилка.\n",
        "Загальна обробка помилок:\n",
        "*   Використовуємо блок try для перетворення строки на ціле число.\n",
        "*   Якщо виникає помилка ValueError, виконується блок except.\n",
        "*   Блок else виконується, якщо помилки не виникло.\n",
        "*   Блок finally виконується завжди.\n",
        "Обробка помилок при роботі з файлами:\n",
        "*   Використовуємо блок try для відкриття та читання файлу.\n",
        "*   Якщо виникає помилка FileNotFoundError, виконується блок except.\n",
        "*   Блок else виконується, якщо помилки не виникло.\n",
        "\n",
        "\n",
        "\n",
        "\n",
        "\n",
        "\n",
        "\n",
        "\n",
        "\n",
        "\n",
        "\n",
        "\n"
      ],
      "metadata": {
        "id": "XrpoyCSMldH5"
      }
    },
    {
      "cell_type": "code",
      "source": [
        "# Приклад обробки помилки ділення на нуль\n",
        "try:\n",
        "    result = 10 / 0\n",
        "except ZeroDivisionError:\n",
        "    print(\"Вибачте, ви ділите на нуль\")\n",
        "else:\n",
        "    print(\"Все добре, результат:\", result)\n",
        "finally:\n",
        "    print(\"Цей блок виконується завжди\")\n",
        "\n",
        "# Загальна обробка помилок\n",
        "try:\n",
        "    value = int(\"abc\")\n",
        "except ValueError:\n",
        "    print(\"Сталася помилка перетворення типу\")\n",
        "else:\n",
        "    print(\"Все добре, значення:\", value)\n",
        "finally:\n",
        "    print(\"Цей блок виконується завжди\")\n",
        "\n",
        "# Обробка помилок при роботі з файлами\n",
        "try:\n",
        "    with open(\"non_existent_file.txt\", \"r\") as file:\n",
        "        content = file.read()\n",
        "except FileNotFoundError:\n",
        "    print(\"Файл не знайдено\")\n",
        "else:\n",
        "    print(\"Файл успішно прочитано\")\n",
        "finally:\n",
        "    print(\"Спроба читання файлу завершена\")\n"
      ],
      "metadata": {
        "colab": {
          "base_uri": "https://localhost:8080/"
        },
        "id": "3g8zQAnomXHy",
        "outputId": "d553ddf3-7e6a-4480-952f-37589a8ba140"
      },
      "execution_count": 16,
      "outputs": [
        {
          "output_type": "stream",
          "name": "stdout",
          "text": [
            "Вибачте, ви ділите на нуль\n",
            "Цей блок виконується завжди\n",
            "Сталася помилка перетворення типу\n",
            "Цей блок виконується завжди\n",
            "Файл не знайдено\n",
            "Спроба читання файлу завершена\n"
          ]
        }
      ]
    },
    {
      "cell_type": "markdown",
      "source": [
        "\n",
        "\n",
        "*  **Функція reverse_string**: Ми визначаємо функцію, яка приймає рядок text як аргумент і повертає перевернутий рядок.\n",
        "*   **Оператор зрізу** [::-1]: Перший двокрапка вказує, що зріз починається з початку рядка, другий двокрапка вказує, що зріз триває до кінця рядка, а -1 означає, що ми беремо кожен символ у зворотному порядку.\n",
        "*   **Тестування функції:** Ми створюємо тестовий рядок test_string, перевертаємо його за допомогою функції reverse_string і виводимо оригінальний та перевернутий рядки.\n",
        "\n",
        "\n",
        "\n"
      ],
      "metadata": {
        "id": "jcP-KYXbOzPF"
      }
    },
    {
      "cell_type": "code",
      "source": [
        "def reverse_string(text):\n",
        "    # Use slicing to reverse the string\n",
        "    return text[::-1]\n",
        "\n",
        "# Test string\n",
        "test_string = \"Hello, World!\"\n",
        "\n",
        "# Call the function to reverse the string\n",
        "result = reverse_string(test_string)\n",
        "\n",
        "# Print the original and reversed strings\n",
        "print(\"Original string:\", test_string)\n",
        "print(\"Reversed string:\", result)\n"
      ],
      "metadata": {
        "colab": {
          "base_uri": "https://localhost:8080/"
        },
        "id": "Nw_QOIfpKXjr",
        "outputId": "40752220-2ac1-468c-b723-5ec5aab9ddc3"
      },
      "execution_count": 1,
      "outputs": [
        {
          "output_type": "stream",
          "name": "stdout",
          "text": [
            "Original string: Hello, World!\n",
            "Reversed string: !dlroW ,olleH\n"
          ]
        }
      ]
    }
  ]
}